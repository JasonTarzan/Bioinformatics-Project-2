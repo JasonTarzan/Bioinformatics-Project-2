{
 "cells": [
  {
   "cell_type": "code",
   "execution_count": 1,
   "metadata": {},
   "outputs": [],
   "source": [
    "import pandas as pd\n",
    "import gseapy\n",
    "from time import time"
   ]
  },
  {
   "cell_type": "code",
   "execution_count": 2,
   "metadata": {},
   "outputs": [
    {
     "data": {
      "text/plain": [
       "1"
      ]
     },
     "execution_count": 2,
     "metadata": {},
     "output_type": "execute_result"
    }
   ],
   "source": [
    "folder = 'modules/'\n",
    "U_LCC = pd.read_csv(folder+'df_ULCC_disease_modules.csv')\n",
    "len(U_LCC)"
   ]
  },
  {
   "cell_type": "code",
   "execution_count": 3,
   "metadata": {},
   "outputs": [
    {
     "data": {
      "text/html": [
       "<div>\n",
       "<style scoped>\n",
       "    .dataframe tbody tr th:only-of-type {\n",
       "        vertical-align: middle;\n",
       "    }\n",
       "\n",
       "    .dataframe tbody tr th {\n",
       "        vertical-align: top;\n",
       "    }\n",
       "\n",
       "    .dataframe thead th {\n",
       "        text-align: right;\n",
       "    }\n",
       "</style>\n",
       "<table border=\"1\" class=\"dataframe\">\n",
       "  <thead>\n",
       "    <tr style=\"text-align: right;\">\n",
       "      <th></th>\n",
       "      <th>algorithm</th>\n",
       "      <th>moduleID</th>\n",
       "      <th>n seed genes</th>\n",
       "      <th>n genes</th>\n",
       "      <th>seed IDs</th>\n",
       "      <th>genes IDs</th>\n",
       "      <th>pvalue</th>\n",
       "    </tr>\n",
       "  </thead>\n",
       "  <tbody>\n",
       "    <tr>\n",
       "      <td>0</td>\n",
       "      <td>mcl</td>\n",
       "      <td>51</td>\n",
       "      <td>2</td>\n",
       "      <td>14</td>\n",
       "      <td>ARHGDIA, ARHGDIB</td>\n",
       "      <td>ARHGDIA, RP11-427L11.1, MIG5, HAAO, MSTP011, R...</td>\n",
       "      <td>0.024786</td>\n",
       "    </tr>\n",
       "  </tbody>\n",
       "</table>\n",
       "</div>"
      ],
      "text/plain": [
       "  algorithm  moduleID  n seed genes  n genes          seed IDs  \\\n",
       "0       mcl        51             2       14  ARHGDIA, ARHGDIB   \n",
       "\n",
       "                                           genes IDs    pvalue  \n",
       "0  ARHGDIA, RP11-427L11.1, MIG5, HAAO, MSTP011, R...  0.024786  "
      ]
     },
     "execution_count": 3,
     "metadata": {},
     "output_type": "execute_result"
    }
   ],
   "source": [
    "U_LCC"
   ]
  },
  {
   "cell_type": "code",
   "execution_count": 4,
   "metadata": {},
   "outputs": [
    {
     "name": "stdout",
     "output_type": "stream",
     "text": [
      "\t\t\tgenes of module 51:\n",
      "ARHGDIA\n",
      "RP11-427L11.1\n",
      "MIG5\n",
      "HAAO\n",
      "MSTP011\n",
      "RP11-618A20.2\n",
      "ARHGDIB\n",
      "SUMO4\n",
      "RP11-426L16.4\n",
      "RP11-131P10.1\n",
      "RAC3\n",
      "RP11-334J6.1\n",
      "RP11-176F3.4\n",
      "RP11-261P9.1\n"
     ]
    }
   ],
   "source": [
    "# module 45\n",
    "lst = U_LCC.iloc[0]['genes IDs'].split(', ')\n",
    "print('\\t\\t\\tgenes of module {}:' .format(U_LCC.iloc[0]['moduleID']))\n",
    "for gene in lst:\n",
    "    print(gene)"
   ]
  },
  {
   "cell_type": "markdown",
   "metadata": {},
   "source": [
    "# module 51\n",
    "\n",
    "GO_Biological_Process_2018_bar_graph\n",
    "<img src=\"GO/U_LCC/module51/GO_Biological_Process_2018_bar_graph.png\">\n",
    "\n",
    "GO_Molecular_Function_2018_bar_graph\n",
    "<img src=\"GO/U_LCC/module51/GO_Molecular_Function_2018_bar_graph.png\">\n",
    "\n",
    "GO_Biological_Process_2018_bar_graph\n",
    "<img src=\"GO/U_LCC/module51/GO_Cellular_Component_2018_bar_graph.png\">\n",
    "\n",
    "KEGG_2019_Human_bar_graph\n",
    "<img src=\"GO/U_LCC/module51/KEGG_2019_Human_bar_graph.png\">"
   ]
  },
  {
   "cell_type": "code",
   "execution_count": 5,
   "metadata": {},
   "outputs": [
    {
     "data": {
      "text/plain": [
       "1"
      ]
     },
     "execution_count": 5,
     "metadata": {},
     "output_type": "execute_result"
    }
   ],
   "source": [
    "I_LCC = pd.read_csv(folder+'df_ILCC_disease_modules.csv')\n",
    "len(U_LCC)"
   ]
  },
  {
   "cell_type": "code",
   "execution_count": 6,
   "metadata": {},
   "outputs": [
    {
     "data": {
      "text/html": [
       "<div>\n",
       "<style scoped>\n",
       "    .dataframe tbody tr th:only-of-type {\n",
       "        vertical-align: middle;\n",
       "    }\n",
       "\n",
       "    .dataframe tbody tr th {\n",
       "        vertical-align: top;\n",
       "    }\n",
       "\n",
       "    .dataframe thead th {\n",
       "        text-align: right;\n",
       "    }\n",
       "</style>\n",
       "<table border=\"1\" class=\"dataframe\">\n",
       "  <thead>\n",
       "    <tr style=\"text-align: right;\">\n",
       "      <th></th>\n",
       "      <th>algorithm</th>\n",
       "      <th>moduleID</th>\n",
       "      <th>n seed genes</th>\n",
       "      <th>n genes</th>\n",
       "      <th>seed IDs</th>\n",
       "      <th>genes IDs</th>\n",
       "      <th>pvalue</th>\n",
       "    </tr>\n",
       "  </thead>\n",
       "  <tbody>\n",
       "    <tr>\n",
       "      <td>0</td>\n",
       "      <td>mcl</td>\n",
       "      <td>2</td>\n",
       "      <td>8</td>\n",
       "      <td>31</td>\n",
       "      <td>PSMA6, PSMC3, PSMB4, PSMD3, PSMB10, PSMD8, PSM...</td>\n",
       "      <td>PSMC1, ADRM1, USP14, PSMD11, PSMC2, PSMA1, PSM...</td>\n",
       "      <td>0.000427</td>\n",
       "    </tr>\n",
       "  </tbody>\n",
       "</table>\n",
       "</div>"
      ],
      "text/plain": [
       "  algorithm  moduleID  n seed genes  n genes  \\\n",
       "0       mcl         2             8       31   \n",
       "\n",
       "                                            seed IDs  \\\n",
       "0  PSMA6, PSMC3, PSMB4, PSMD3, PSMB10, PSMD8, PSM...   \n",
       "\n",
       "                                           genes IDs    pvalue  \n",
       "0  PSMC1, ADRM1, USP14, PSMD11, PSMC2, PSMA1, PSM...  0.000427  "
      ]
     },
     "execution_count": 6,
     "metadata": {},
     "output_type": "execute_result"
    }
   ],
   "source": [
    "I_LCC"
   ]
  },
  {
   "cell_type": "code",
   "execution_count": 7,
   "metadata": {},
   "outputs": [
    {
     "name": "stdout",
     "output_type": "stream",
     "text": [
      "\t\t\tgenes of module 2:\n",
      "PSMC1\n",
      "ADRM1\n",
      "USP14\n",
      "PSMD11\n",
      "PSMC2\n",
      "PSMA1\n",
      "PSMD14\n",
      "PSMB3\n",
      "PSMA6\n",
      "PSMC3\n",
      "PSMD12\n",
      "PSMC6\n",
      "PSMB1\n",
      "PSMB5\n",
      "PSMD9\n",
      "PSMB4\n",
      "PSMD4\n",
      "PSMA3\n",
      "PSMB6\n",
      "PSMD7\n",
      "PSMA8\n",
      "PSMD1\n",
      "PSMD10\n",
      "PSMD3\n",
      "PSMB10\n",
      "PSMA2\n",
      "PSMD8\n",
      "PSMD6\n",
      "PSMA5\n",
      "PAAF1\n",
      "NAA15\n"
     ]
    }
   ],
   "source": [
    "# module 2\n",
    "lst = I_LCC.iloc[0]['genes IDs'].split(', ')\n",
    "print('\\t\\t\\tgenes of module {}:' .format(I_LCC.iloc[0]['moduleID']))\n",
    "for gene in lst:\n",
    "    print(gene)"
   ]
  },
  {
   "cell_type": "markdown",
   "metadata": {},
   "source": [
    "# module 2\n",
    "\n",
    "GO_Biological_Process_2018_bar_graph\n",
    "<img src=\"GO/I_LCC/module2/GO_Biological_Process_2018_bar_graph.png\">\n",
    "\n",
    "GO_Molecular_Function_2018_bar_graph\n",
    "<img src=\"GO/I_LCC/module2/GO_Molecular_Function_2018_bar_graph.png\">\n",
    "\n",
    "GO_Biological_Process_2018_bar_graph\n",
    "<img src=\"GO/I_LCC/module2/GO_Cellular_Component_2018_bar_graph.png\">\n",
    "\n",
    "KEGG_2019_Human_bar_graph\n",
    "<img src=\"GO/I_LCC/module2/KEGG_2019_Human_bar_graph.png\">"
   ]
  }
 ],
 "metadata": {
  "kernelspec": {
   "display_name": "Python 3",
   "language": "python",
   "name": "python3"
  },
  "language_info": {
   "codemirror_mode": {
    "name": "ipython",
    "version": 3
   },
   "file_extension": ".py",
   "mimetype": "text/x-python",
   "name": "python",
   "nbconvert_exporter": "python",
   "pygments_lexer": "ipython3",
   "version": "3.7.3"
  }
 },
 "nbformat": 4,
 "nbformat_minor": 2
}
