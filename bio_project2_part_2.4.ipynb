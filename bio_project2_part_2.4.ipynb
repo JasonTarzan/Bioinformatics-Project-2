{
 "cells": [
  {
   "cell_type": "markdown",
   "metadata": {},
   "source": [
    "## Part 2.4"
   ]
  },
  {
   "cell_type": "markdown",
   "metadata": {},
   "source": [
    "### Import data and modules"
   ]
  },
  {
   "cell_type": "code",
   "execution_count": 1,
   "metadata": {},
   "outputs": [],
   "source": [
    "import numpy as np\n",
    "import networkx as nx\n",
    "import pandas as pd\n",
    "from scipy.stats import hypergeom\n",
    "import gseapy\n",
    "import re"
   ]
  },
  {
   "cell_type": "code",
   "execution_count": 2,
   "metadata": {},
   "outputs": [
    {
     "data": {
      "text/html": [
       "<div>\n",
       "<style scoped>\n",
       "    .dataframe tbody tr th:only-of-type {\n",
       "        vertical-align: middle;\n",
       "    }\n",
       "\n",
       "    .dataframe tbody tr th {\n",
       "        vertical-align: top;\n",
       "    }\n",
       "\n",
       "    .dataframe thead th {\n",
       "        text-align: right;\n",
       "    }\n",
       "</style>\n",
       "<table border=\"1\" class=\"dataframe\">\n",
       "  <thead>\n",
       "    <tr style=\"text-align: right;\">\n",
       "      <th></th>\n",
       "      <th>seed Gene</th>\n",
       "      <th>Uniprot_AC</th>\n",
       "      <th>protein_name</th>\n",
       "      <th>entrez_gene_id</th>\n",
       "      <th>description</th>\n",
       "    </tr>\n",
       "  </thead>\n",
       "  <tbody>\n",
       "    <tr>\n",
       "      <th>0</th>\n",
       "      <td>IFNG</td>\n",
       "      <td>P01579</td>\n",
       "      <td>Interferon gamma</td>\n",
       "      <td>3458</td>\n",
       "      <td>Produced by lymphocytes activated by specific ...</td>\n",
       "    </tr>\n",
       "    <tr>\n",
       "      <th>1</th>\n",
       "      <td>CD28</td>\n",
       "      <td>P10747</td>\n",
       "      <td>T-cell-specific surface glycoprotein CD28</td>\n",
       "      <td>940</td>\n",
       "      <td>Involved in T-cell activation, the induction o...</td>\n",
       "    </tr>\n",
       "    <tr>\n",
       "      <th>2</th>\n",
       "      <td>HLA-B</td>\n",
       "      <td>P01889</td>\n",
       "      <td>HLA class I histocompatibility antigen, B alph...</td>\n",
       "      <td>3106</td>\n",
       "      <td>Antigen-presenting major histocompatibility co...</td>\n",
       "    </tr>\n",
       "    <tr>\n",
       "      <th>3</th>\n",
       "      <td>KIR3DL1</td>\n",
       "      <td>P43629</td>\n",
       "      <td>Killer cell immunoglobulin-like receptor 3DL1</td>\n",
       "      <td>3811</td>\n",
       "      <td>Receptor on natural killer (NK) cells for HLA ...</td>\n",
       "    </tr>\n",
       "    <tr>\n",
       "      <th>4</th>\n",
       "      <td>HLA-C</td>\n",
       "      <td>P10321</td>\n",
       "      <td>HLA class I histocompatibility antigen, C alph...</td>\n",
       "      <td>3107</td>\n",
       "      <td>Antigen-presenting major histocompatibility co...</td>\n",
       "    </tr>\n",
       "  </tbody>\n",
       "</table>\n",
       "</div>"
      ],
      "text/plain": [
       "  seed Gene Uniprot_AC                                       protein_name  \\\n",
       "0      IFNG     P01579                                  Interferon gamma    \n",
       "1      CD28     P10747         T-cell-specific surface glycoprotein CD28    \n",
       "2     HLA-B     P01889  HLA class I histocompatibility antigen, B alph...   \n",
       "3   KIR3DL1     P43629     Killer cell immunoglobulin-like receptor 3DL1    \n",
       "4     HLA-C     P10321  HLA class I histocompatibility antigen, C alph...   \n",
       "\n",
       "  entrez_gene_id                                        description  \n",
       "0           3458  Produced by lymphocytes activated by specific ...  \n",
       "1            940  Involved in T-cell activation, the induction o...  \n",
       "2           3106  Antigen-presenting major histocompatibility co...  \n",
       "3           3811  Receptor on natural killer (NK) cells for HLA ...  \n",
       "4           3107  Antigen-presenting major histocompatibility co...  "
      ]
     },
     "execution_count": 2,
     "metadata": {},
     "output_type": "execute_result"
    }
   ],
   "source": [
    "df_seed_genes = pd.read_csv(\"Seed_Genes.csv\", sep = \"\\t\")\n",
    "df_seed_genes.head()"
   ]
  },
  {
   "cell_type": "code",
   "execution_count": 3,
   "metadata": {},
   "outputs": [
    {
     "data": {
      "text/html": [
       "<div>\n",
       "<style scoped>\n",
       "    .dataframe tbody tr th:only-of-type {\n",
       "        vertical-align: middle;\n",
       "    }\n",
       "\n",
       "    .dataframe tbody tr th {\n",
       "        vertical-align: top;\n",
       "    }\n",
       "\n",
       "    .dataframe thead th {\n",
       "        text-align: right;\n",
       "    }\n",
       "</style>\n",
       "<table border=\"1\" class=\"dataframe\">\n",
       "  <thead>\n",
       "    <tr style=\"text-align: right;\">\n",
       "      <th></th>\n",
       "      <th>interactor A gene symbol</th>\n",
       "      <th>interactor B gene symbol</th>\n",
       "      <th>interactor A Uniprot AC</th>\n",
       "      <th>interactor B Uniprot AC</th>\n",
       "      <th>database source</th>\n",
       "    </tr>\n",
       "  </thead>\n",
       "  <tbody>\n",
       "    <tr>\n",
       "      <th>0</th>\n",
       "      <td>IFNG</td>\n",
       "      <td>IFNG</td>\n",
       "      <td>P01579</td>\n",
       "      <td>P01579</td>\n",
       "      <td>Biogrid</td>\n",
       "    </tr>\n",
       "    <tr>\n",
       "      <th>1</th>\n",
       "      <td>HLA-B</td>\n",
       "      <td>HLA-B</td>\n",
       "      <td>P01889</td>\n",
       "      <td>P01889</td>\n",
       "      <td>Biogrid</td>\n",
       "    </tr>\n",
       "    <tr>\n",
       "      <th>2</th>\n",
       "      <td>HLA-B</td>\n",
       "      <td>ADRB2</td>\n",
       "      <td>P01889</td>\n",
       "      <td>P07550</td>\n",
       "      <td>Biogrid</td>\n",
       "    </tr>\n",
       "    <tr>\n",
       "      <th>3</th>\n",
       "      <td>HLA-B</td>\n",
       "      <td>HLA-C</td>\n",
       "      <td>P01889</td>\n",
       "      <td>P10321</td>\n",
       "      <td>Biogrid</td>\n",
       "    </tr>\n",
       "    <tr>\n",
       "      <th>4</th>\n",
       "      <td>KIR3DL1</td>\n",
       "      <td>KIR3DL1</td>\n",
       "      <td>P43629</td>\n",
       "      <td>P43629</td>\n",
       "      <td>Biogrid</td>\n",
       "    </tr>\n",
       "  </tbody>\n",
       "</table>\n",
       "</div>"
      ],
      "text/plain": [
       "  interactor A gene symbol interactor B gene symbol interactor A Uniprot AC  \\\n",
       "0                     IFNG                     IFNG                  P01579   \n",
       "1                    HLA-B                    HLA-B                  P01889   \n",
       "2                    HLA-B                    ADRB2                  P01889   \n",
       "3                    HLA-B                    HLA-C                  P01889   \n",
       "4                  KIR3DL1                  KIR3DL1                  P43629   \n",
       "\n",
       "  interactor B Uniprot AC database source  \n",
       "0                  P01579         Biogrid  \n",
       "1                  P01889         Biogrid  \n",
       "2                  P07550         Biogrid  \n",
       "3                  P10321         Biogrid  \n",
       "4                  P43629         Biogrid  "
      ]
     },
     "execution_count": 3,
     "metadata": {},
     "output_type": "execute_result"
    }
   ],
   "source": [
    "df_seed_interactome = pd.read_csv(\"SeedGeneInteractome.csv\", sep = \"\\t\")\n",
    "df_seed_interactome.head()"
   ]
  },
  {
   "cell_type": "code",
   "execution_count": 4,
   "metadata": {},
   "outputs": [
    {
     "data": {
      "text/html": [
       "<div>\n",
       "<style scoped>\n",
       "    .dataframe tbody tr th:only-of-type {\n",
       "        vertical-align: middle;\n",
       "    }\n",
       "\n",
       "    .dataframe tbody tr th {\n",
       "        vertical-align: top;\n",
       "    }\n",
       "\n",
       "    .dataframe thead th {\n",
       "        text-align: right;\n",
       "    }\n",
       "</style>\n",
       "<table border=\"1\" class=\"dataframe\">\n",
       "  <thead>\n",
       "    <tr style=\"text-align: right;\">\n",
       "      <th></th>\n",
       "      <th>interactor A gene symbol</th>\n",
       "      <th>interactor B gene symbol</th>\n",
       "      <th>interactor A Uniprot AC</th>\n",
       "      <th>interactor B Uniprot AC</th>\n",
       "    </tr>\n",
       "  </thead>\n",
       "  <tbody>\n",
       "    <tr>\n",
       "      <th>0</th>\n",
       "      <td>IFNG</td>\n",
       "      <td>RP3-503F13.3</td>\n",
       "      <td>P01579</td>\n",
       "      <td>-</td>\n",
       "    </tr>\n",
       "    <tr>\n",
       "      <th>1</th>\n",
       "      <td>IFNG</td>\n",
       "      <td>GOPC</td>\n",
       "      <td>P01579</td>\n",
       "      <td>Q9HD26</td>\n",
       "    </tr>\n",
       "    <tr>\n",
       "      <th>2</th>\n",
       "      <td>IFNG</td>\n",
       "      <td>IFNGR2</td>\n",
       "      <td>P01579</td>\n",
       "      <td>P38484</td>\n",
       "    </tr>\n",
       "    <tr>\n",
       "      <th>3</th>\n",
       "      <td>IFNG</td>\n",
       "      <td>STAT6</td>\n",
       "      <td>P01579</td>\n",
       "      <td>P42226</td>\n",
       "    </tr>\n",
       "    <tr>\n",
       "      <th>4</th>\n",
       "      <td>IFNG</td>\n",
       "      <td>IFNG</td>\n",
       "      <td>P01579</td>\n",
       "      <td>P01579</td>\n",
       "    </tr>\n",
       "  </tbody>\n",
       "</table>\n",
       "</div>"
      ],
      "text/plain": [
       "  interactor A gene symbol interactor B gene symbol interactor A Uniprot AC  \\\n",
       "0                     IFNG             RP3-503F13.3                  P01579   \n",
       "1                     IFNG                     GOPC                  P01579   \n",
       "2                     IFNG                   IFNGR2                  P01579   \n",
       "3                     IFNG                    STAT6                  P01579   \n",
       "4                     IFNG                     IFNG                  P01579   \n",
       "\n",
       "  interactor B Uniprot AC  \n",
       "0                       -  \n",
       "1                  Q9HD26  \n",
       "2                  P38484  \n",
       "3                  P42226  \n",
       "4                  P01579  "
      ]
     },
     "execution_count": 4,
     "metadata": {},
     "output_type": "execute_result"
    }
   ],
   "source": [
    "df_union_interactome = pd.read_csv(\"UnionInteractome.csv\", sep = \"\\t\")\n",
    "df_union_interactome.head()"
   ]
  },
  {
   "cell_type": "code",
   "execution_count": 5,
   "metadata": {},
   "outputs": [
    {
     "data": {
      "text/html": [
       "<div>\n",
       "<style scoped>\n",
       "    .dataframe tbody tr th:only-of-type {\n",
       "        vertical-align: middle;\n",
       "    }\n",
       "\n",
       "    .dataframe tbody tr th {\n",
       "        vertical-align: top;\n",
       "    }\n",
       "\n",
       "    .dataframe thead th {\n",
       "        text-align: right;\n",
       "    }\n",
       "</style>\n",
       "<table border=\"1\" class=\"dataframe\">\n",
       "  <thead>\n",
       "    <tr style=\"text-align: right;\">\n",
       "      <th></th>\n",
       "      <th>interactor A gene symbol</th>\n",
       "      <th>interactor B gene symbol</th>\n",
       "      <th>interactor A Uniprot AC</th>\n",
       "      <th>interactor B Uniprot AC</th>\n",
       "    </tr>\n",
       "  </thead>\n",
       "  <tbody>\n",
       "    <tr>\n",
       "      <th>0</th>\n",
       "      <td>DHX15</td>\n",
       "      <td>ARRB2</td>\n",
       "      <td>O43143</td>\n",
       "      <td>P32121</td>\n",
       "    </tr>\n",
       "    <tr>\n",
       "      <th>1</th>\n",
       "      <td>CAD</td>\n",
       "      <td>HDAC6</td>\n",
       "      <td>P27708</td>\n",
       "      <td>Q9UBN7</td>\n",
       "    </tr>\n",
       "    <tr>\n",
       "      <th>2</th>\n",
       "      <td>RPL7</td>\n",
       "      <td>RPS13</td>\n",
       "      <td>P18124</td>\n",
       "      <td>P62277</td>\n",
       "    </tr>\n",
       "    <tr>\n",
       "      <th>3</th>\n",
       "      <td>MYC</td>\n",
       "      <td>HSP90AA1</td>\n",
       "      <td>P01106</td>\n",
       "      <td>P07900</td>\n",
       "    </tr>\n",
       "    <tr>\n",
       "      <th>4</th>\n",
       "      <td>TP53</td>\n",
       "      <td>GNL3</td>\n",
       "      <td>P04637</td>\n",
       "      <td>Q9BVP2</td>\n",
       "    </tr>\n",
       "  </tbody>\n",
       "</table>\n",
       "</div>"
      ],
      "text/plain": [
       "  interactor A gene symbol interactor B gene symbol interactor A Uniprot AC  \\\n",
       "0                    DHX15                    ARRB2                  O43143   \n",
       "1                      CAD                    HDAC6                  P27708   \n",
       "2                     RPL7                    RPS13                  P18124   \n",
       "3                      MYC                 HSP90AA1                  P01106   \n",
       "4                     TP53                     GNL3                  P04637   \n",
       "\n",
       "  interactor B Uniprot AC  \n",
       "0                  P32121  \n",
       "1                  Q9UBN7  \n",
       "2                  P62277  \n",
       "3                  P07900  \n",
       "4                  Q9BVP2  "
      ]
     },
     "execution_count": 5,
     "metadata": {},
     "output_type": "execute_result"
    }
   ],
   "source": [
    "df_intersection_interactome = pd.read_csv(\"IntersectionInteractome.csv\", sep = \"\\t\")\n",
    "df_intersection_interactome.head()"
   ]
  },
  {
   "cell_type": "markdown",
   "metadata": {},
   "source": [
    "### Find putative disease genes using the DIAMOnD tool"
   ]
  },
  {
   "cell_type": "code",
   "execution_count": 6,
   "metadata": {},
   "outputs": [
    {
     "data": {
      "text/html": [
       "<div>\n",
       "<style scoped>\n",
       "    .dataframe tbody tr th:only-of-type {\n",
       "        vertical-align: middle;\n",
       "    }\n",
       "\n",
       "    .dataframe tbody tr th {\n",
       "        vertical-align: top;\n",
       "    }\n",
       "\n",
       "    .dataframe thead th {\n",
       "        text-align: right;\n",
       "    }\n",
       "</style>\n",
       "<table border=\"1\" class=\"dataframe\">\n",
       "  <thead>\n",
       "    <tr style=\"text-align: right;\">\n",
       "      <th></th>\n",
       "      <th>interactor A gene symbol</th>\n",
       "      <th>interactor B gene symbol</th>\n",
       "      <th>interactor A Uniprot AC</th>\n",
       "      <th>interactor B Uniprot AC</th>\n",
       "      <th>database source</th>\n",
       "    </tr>\n",
       "  </thead>\n",
       "  <tbody>\n",
       "    <tr>\n",
       "      <th>0</th>\n",
       "      <td>IFNG</td>\n",
       "      <td>RP3-503F13.3</td>\n",
       "      <td>P01579</td>\n",
       "      <td>-</td>\n",
       "      <td>Biogrid</td>\n",
       "    </tr>\n",
       "    <tr>\n",
       "      <th>1</th>\n",
       "      <td>IFNG</td>\n",
       "      <td>GOPC</td>\n",
       "      <td>P01579</td>\n",
       "      <td>Q9HD26</td>\n",
       "      <td>Biogrid</td>\n",
       "    </tr>\n",
       "    <tr>\n",
       "      <th>2</th>\n",
       "      <td>IFNG</td>\n",
       "      <td>IFNGR2</td>\n",
       "      <td>P01579</td>\n",
       "      <td>P38484</td>\n",
       "      <td>Biogrid</td>\n",
       "    </tr>\n",
       "    <tr>\n",
       "      <th>3</th>\n",
       "      <td>IFNG</td>\n",
       "      <td>STAT6</td>\n",
       "      <td>P01579</td>\n",
       "      <td>P42226</td>\n",
       "      <td>Biogrid</td>\n",
       "    </tr>\n",
       "    <tr>\n",
       "      <th>4</th>\n",
       "      <td>IFNG</td>\n",
       "      <td>IFNG</td>\n",
       "      <td>P01579</td>\n",
       "      <td>P01579</td>\n",
       "      <td>Biogrid</td>\n",
       "    </tr>\n",
       "  </tbody>\n",
       "</table>\n",
       "</div>"
      ],
      "text/plain": [
       "  interactor A gene symbol interactor B gene symbol interactor A Uniprot AC  \\\n",
       "0                     IFNG             RP3-503F13.3                  P01579   \n",
       "1                     IFNG                     GOPC                  P01579   \n",
       "2                     IFNG                   IFNGR2                  P01579   \n",
       "3                     IFNG                    STAT6                  P01579   \n",
       "4                     IFNG                     IFNG                  P01579   \n",
       "\n",
       "  interactor B Uniprot AC database source  \n",
       "0                       -         Biogrid  \n",
       "1                  Q9HD26         Biogrid  \n",
       "2                  P38484         Biogrid  \n",
       "3                  P42226         Biogrid  \n",
       "4                  P01579         Biogrid  "
      ]
     },
     "execution_count": 6,
     "metadata": {},
     "output_type": "execute_result"
    }
   ],
   "source": [
    "# open complete interactome\n",
    "df_Biogrid = pd.read_csv(\"SummarizedData.csv\", sep = \"\\t\")\n",
    "df_Biogrid.head()"
   ]
  },
  {
   "cell_type": "code",
   "execution_count": 7,
   "metadata": {},
   "outputs": [
    {
     "data": {
      "text/html": [
       "<div>\n",
       "<style scoped>\n",
       "    .dataframe tbody tr th:only-of-type {\n",
       "        vertical-align: middle;\n",
       "    }\n",
       "\n",
       "    .dataframe tbody tr th {\n",
       "        vertical-align: top;\n",
       "    }\n",
       "\n",
       "    .dataframe thead th {\n",
       "        text-align: right;\n",
       "    }\n",
       "</style>\n",
       "<table border=\"1\" class=\"dataframe\">\n",
       "  <thead>\n",
       "    <tr style=\"text-align: right;\">\n",
       "      <th></th>\n",
       "      <th>interactor A gene symbol</th>\n",
       "      <th>interactor B gene symbol</th>\n",
       "      <th>interactor A Uniprot AC</th>\n",
       "      <th>interactor B Uniprot AC</th>\n",
       "      <th>database source</th>\n",
       "    </tr>\n",
       "  </thead>\n",
       "  <tbody>\n",
       "    <tr>\n",
       "      <th>0</th>\n",
       "      <td>IFNG</td>\n",
       "      <td>RP3-503F13.3</td>\n",
       "      <td>P01579</td>\n",
       "      <td>-</td>\n",
       "      <td>Biogrid</td>\n",
       "    </tr>\n",
       "    <tr>\n",
       "      <th>1</th>\n",
       "      <td>IFNG</td>\n",
       "      <td>GOPC</td>\n",
       "      <td>P01579</td>\n",
       "      <td>Q9HD26</td>\n",
       "      <td>Biogrid</td>\n",
       "    </tr>\n",
       "    <tr>\n",
       "      <th>2</th>\n",
       "      <td>IFNG</td>\n",
       "      <td>IFNGR2</td>\n",
       "      <td>P01579</td>\n",
       "      <td>P38484</td>\n",
       "      <td>Biogrid</td>\n",
       "    </tr>\n",
       "    <tr>\n",
       "      <th>3</th>\n",
       "      <td>IFNG</td>\n",
       "      <td>STAT6</td>\n",
       "      <td>P01579</td>\n",
       "      <td>P42226</td>\n",
       "      <td>Biogrid</td>\n",
       "    </tr>\n",
       "    <tr>\n",
       "      <th>4</th>\n",
       "      <td>IFNG</td>\n",
       "      <td>IFNG</td>\n",
       "      <td>P01579</td>\n",
       "      <td>P01579</td>\n",
       "      <td>Biogrid</td>\n",
       "    </tr>\n",
       "  </tbody>\n",
       "</table>\n",
       "</div>"
      ],
      "text/plain": [
       "  interactor A gene symbol interactor B gene symbol interactor A Uniprot AC  \\\n",
       "0                     IFNG             RP3-503F13.3                  P01579   \n",
       "1                     IFNG                     GOPC                  P01579   \n",
       "2                     IFNG                   IFNGR2                  P01579   \n",
       "3                     IFNG                    STAT6                  P01579   \n",
       "4                     IFNG                     IFNG                  P01579   \n",
       "\n",
       "  interactor B Uniprot AC database source  \n",
       "0                       -         Biogrid  \n",
       "1                  Q9HD26         Biogrid  \n",
       "2                  P38484         Biogrid  \n",
       "3                  P42226         Biogrid  \n",
       "4                  P01579         Biogrid  "
      ]
     },
     "execution_count": 7,
     "metadata": {},
     "output_type": "execute_result"
    }
   ],
   "source": [
    "# get complete BioGRID interactome\n",
    "df_Biogrid = df_Biogrid[df_Biogrid[\"database source\"] == \"Biogrid\"]\n",
    "df_Biogrid.head()"
   ]
  },
  {
   "cell_type": "code",
   "execution_count": 8,
   "metadata": {},
   "outputs": [],
   "source": [
    "# create network file for DIAMOnD\n",
    "with open('DIAMOnD/network_file_DIAMOnD', 'w', newline='') as f:\n",
    "    for idx in range(len(df_Biogrid)):\n",
    "        f.write('{} {}\\n'.format(df_Biogrid[\"interactor A gene symbol\"][idx], df_Biogrid[\"interactor B gene symbol\"][idx]))\n",
    "    f.close()"
   ]
  },
  {
   "cell_type": "code",
   "execution_count": 9,
   "metadata": {},
   "outputs": [],
   "source": [
    "# create seed file for DIAMOnD\n",
    "with open('DIAMOnD/seed_file_DIAMOnD', 'w', newline='') as f:\n",
    "    for idx in range(len(df_seed_genes)):\n",
    "        f.write('{}\\n'.format(df_seed_genes[\"seed Gene\"][idx]))\n",
    "    f.close()"
   ]
  },
  {
   "cell_type": "code",
   "execution_count": 10,
   "metadata": {},
   "outputs": [
    {
     "name": "stdout",
     "output_type": "stream",
     "text": [
      "DIAMOnD(): ignoring 1 of 102 seed genes that are not in the network\n",
      "\n",
      " results have been saved to 'DIAMOnD/output_DIAMOnD' \n",
      "\n"
     ]
    }
   ],
   "source": [
    "# execute DIAMOnD algorithm\n",
    "!python2 DIAMOnD.py \"DIAMOnD/network_file_DIAMOnD\" \"DIAMOnD/seed_file_DIAMOnD\" 200 1 \"DIAMOnD/output_DIAMOnD\""
   ]
  },
  {
   "cell_type": "code",
   "execution_count": 11,
   "metadata": {},
   "outputs": [],
   "source": [
    "# open DIAMOnD output\n",
    "f = open(\"DIAMOnD/output_DIAMOnD\")\n",
    "lines = f.read()\n",
    "lines = lines.split(\"\\n\")\n",
    "f.close()\n",
    "lines = lines[1:len(lines) - 1]"
   ]
  },
  {
   "cell_type": "code",
   "execution_count": 12,
   "metadata": {},
   "outputs": [],
   "source": [
    "# get putative disease genes\n",
    "disease_genes = []\n",
    "for line in lines:\n",
    "    dg = re.search(\"[\\t].+\", line)[0].replace(\"\\t\", \"\")\n",
    "    disease_genes.append(dg)"
   ]
  },
  {
   "cell_type": "code",
   "execution_count": 13,
   "metadata": {},
   "outputs": [
    {
     "data": {
      "text/plain": [
       "['RP3-339A18.4', 'HSPC057', 'RP3-330O12.3', 'KB-152G3.1', 'RP1-319D22.1']"
      ]
     },
     "execution_count": 13,
     "metadata": {},
     "output_type": "execute_result"
    }
   ],
   "source": [
    "disease_genes[0:5]"
   ]
  },
  {
   "cell_type": "code",
   "execution_count": 14,
   "metadata": {},
   "outputs": [
    {
     "data": {
      "text/plain": [
       "<gseapy.enrichr.Enrichr at 0x7fce9425d160>"
      ]
     },
     "execution_count": 14,
     "metadata": {},
     "output_type": "execute_result"
    }
   ],
   "source": [
    "# perform enrichment analysis\n",
    "gseapy.enrichr(gene_list=disease_genes, description='gene_ontology', gene_sets='GO_Biological_Process_2018', outdir='GO/putative_disease_genes',cutoff=0.05, format='png')\n",
    "gseapy.enrichr(gene_list=disease_genes, description='gene_ontology', gene_sets='GO_Cellular_Component_2018', outdir='GO/putative_disease_genes',cutoff=0.05, format='png')\n",
    "gseapy.enrichr(gene_list=disease_genes, description='gene_ontology', gene_sets='GO_Molecular_Function_2018', outdir='GO/putative_disease_genes',cutoff=0.05, format='png')\n",
    "gseapy.enrichr(gene_list=disease_genes, description='pathway', gene_sets='KEGG_2019_Human', outdir='GO/putative_disease_genes',cutoff=0.05, format='png')"
   ]
  },
  {
   "cell_type": "code",
   "execution_count": 15,
   "metadata": {},
   "outputs": [],
   "source": [
    "# save first 30 putative disease genes\n",
    "with open('putative_disease_genes.txt', 'w', newline='') as f:\n",
    "    for gene in disease_genes[0:30]:\n",
    "        f.write('{}\\n'.format(gene))\n",
    "    f.close()"
   ]
  },
  {
   "cell_type": "code",
   "execution_count": 18,
   "metadata": {},
   "outputs": [],
   "source": [
    "# save all of the putative disease genes\n",
    "with open('putative_disease_genes_tot.txt', 'w', newline='') as f:\n",
    "    for gene in disease_genes:\n",
    "        f.write('{}\\n'.format(gene))\n",
    "    f.close()"
   ]
  },
  {
   "cell_type": "code",
   "execution_count": null,
   "metadata": {},
   "outputs": [],
   "source": []
  }
 ],
 "metadata": {
  "kernelspec": {
   "display_name": "Python 3",
   "language": "python",
   "name": "python3"
  },
  "language_info": {
   "codemirror_mode": {
    "name": "ipython",
    "version": 3
   },
   "file_extension": ".py",
   "mimetype": "text/x-python",
   "name": "python",
   "nbconvert_exporter": "python",
   "pygments_lexer": "ipython3",
   "version": "3.7.3"
  }
 },
 "nbformat": 4,
 "nbformat_minor": 2
}
