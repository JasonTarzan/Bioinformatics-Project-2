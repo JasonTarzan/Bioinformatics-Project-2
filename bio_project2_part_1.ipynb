{
 "cells": [
  {
   "cell_type": "markdown",
   "metadata": {},
   "source": [
    "# Part 1 – Data collection"
   ]
  },
  {
   "cell_type": "code",
   "execution_count": 1,
   "metadata": {},
   "outputs": [],
   "source": [
    "import numpy as np\n",
    "import pandas as pd\n",
    "import urllib.request\n",
    "import networkx as nx\n",
    "import matplotlib.pyplot as plt\n",
    "import requests\n",
    "import gseapy\n",
    "import time\n",
    "import csv\n",
    "from bioservices import BioGRID,UniProt,PSICQUIC\n",
    "from tqdm import tqdm_notebook"
   ]
  },
  {
   "cell_type": "markdown",
   "metadata": {},
   "source": [
    "## 1.1) Explore information sources and compile the seed gene list:"
   ]
  },
  {
   "cell_type": "code",
   "execution_count": 2,
   "metadata": {},
   "outputs": [],
   "source": [
    "# seed genes for HIV Infections(C0019693)\n",
    "\n",
    "seed_genes = pd.read_csv('C0019693_disease_gda_summary_CURATED.tsv',sep='\\t',usecols=['Gene'])['Gene'].values"
   ]
  },
  {
   "cell_type": "code",
   "execution_count": 3,
   "metadata": {},
   "outputs": [
    {
     "data": {
      "text/plain": [
       "102"
      ]
     },
     "execution_count": 3,
     "metadata": {},
     "output_type": "execute_result"
    }
   ],
   "source": [
    "len(seed_genes)"
   ]
  },
  {
   "cell_type": "code",
   "execution_count": 4,
   "metadata": {},
   "outputs": [
    {
     "data": {
      "text/plain": [
       "array(['IFNG', 'CD28', 'HLA-B', 'KIR3DL1', 'HLA-C', 'IL10', 'IL2', 'CCL2',\n",
       "       'CXCL12', 'MBL2', 'IL2RA', 'CCL3', 'CCL3L1', 'CX3CR1', 'TRIM5',\n",
       "       'SLC11A1', 'APOA1', 'SERPINA1', 'SIRT1', 'CD209', 'HP', 'CXCR1',\n",
       "       'HSPB1', 'CDC42', 'CCR3', 'TLR3', 'ILF2', 'PPIB', 'MDM2', 'HSPD1',\n",
       "       'PTCH1', 'CDKN1A', 'YY1', 'FCER2', 'IPO7', 'HSP90AA1', 'SFPQ',\n",
       "       'RAB11B', 'SRSF1', 'CCT3', 'SRSF9', 'EIF3B', 'DNAJC7', 'SNRPD3',\n",
       "       'SRF', 'TAF9', 'U2AF1', 'BAG3', 'GRPEL1', 'ARAP3', 'PSME4', 'CCT5',\n",
       "       'RAB32', 'COPS6', 'SF3A3', 'HSPH1', 'PRPF8', 'CLIC1', 'EMG1',\n",
       "       'SIGMAR1', 'NUTF2', 'PSME3', 'ALYREF', 'PSMD6', 'CCT7', 'CCL11',\n",
       "       'LYN', 'EIF6', 'IL4R', 'HSP90AB1', 'HSPA9', 'HDGF', 'GTF3A',\n",
       "       'EIF4EBP1', 'EIF4A1', 'GADD45A', 'BAX', 'ARHGDIB', 'ARHGDIA',\n",
       "       'ARHGAP4', 'BIRC3', 'BIRC2', 'ALB', 'KPNB1', 'MAZ', 'RANBP1',\n",
       "       'RAN', 'PSME2', 'PSME1', 'PSMD13', 'PSMD8', 'PSMD3', 'PSMC5',\n",
       "       'PSMC3', 'PSMB10', 'PSMB4', 'PSMA6', 'PSMA5', 'PSMA4', 'ODC1',\n",
       "       'NUP88', 'ADRB2'], dtype=object)"
      ]
     },
     "execution_count": 4,
     "metadata": {},
     "output_type": "execute_result"
    }
   ],
   "source": [
    "seed_genes"
   ]
  },
  {
   "cell_type": "code",
   "execution_count": 5,
   "metadata": {},
   "outputs": [],
   "source": [
    "def uniprot_AC(genes):\n",
    "    \"\"\"\n",
    "    this function return the uniprot_AC code given a gene symbol\n",
    "    \"\"\"\n",
    "    ids = []\n",
    "    HGNC = pd.read_csv('hgnc_complete_set.txt',sep='\\t',usecols=['symbol','uniprot_ids']) \n",
    "    u = UniProt(verbose=False)\n",
    "    if type(genes) == str:\n",
    "        genes = [genes]\n",
    "    for gene in tqdm_notebook(genes):\n",
    "        try:   \n",
    "            if not HGNC[HGNC.symbol==gene]['uniprot_ids'].isna().values[0]:\n",
    "                gene_id =  HGNC[HGNC.symbol==gene]['uniprot_ids'].values[0]\n",
    "            else:         \n",
    "                gene_id = u.search(gene, columns=\"id\").split('\\n')[1]\n",
    "        except:\n",
    "            gene_id = '-'\n",
    "        ids.append(gene_id)\n",
    "    return(ids)\n",
    "\n",
    "\n",
    "def gene_details(gene):\n",
    "    \"\"\"\n",
    "    this function return the genes information given a gene symbol\n",
    "    \"\"\"\n",
    "    query = 'https://www.uniprot.org/uniprot/?query=gene_exact:{}+AND+reviewed:yes+AND+organism:%22Homo%20sapiens%20(Human)%20[9606]%22&columns=id,database(GeneID),comment(FUNCTION),protein%20names&format=tab'.format(gene)\n",
    "    page = urllib.request.urlopen(query)\n",
    "    page = page.read().decode()\n",
    "    attrs = page.split('\\t')\n",
    "    \n",
    "    uniprot_AC = attrs[3].split('\\n')[1]\n",
    "    \n",
    "    s = attrs[-1]\n",
    "    protein_name = s[:s.find(\"(\")]\n",
    "    \n",
    "    entrez_gene_id = attrs[4].strip(';')\n",
    "    \n",
    "    s = attrs[5].split(': ')[1]\n",
    "    description = s[:s.find(\" {\")]\n",
    "    \n",
    "    \n",
    "    time.sleep(2)\n",
    "    return(gene,uniprot_AC,protein_name,entrez_gene_id,description)\n",
    "        "
   ]
  },
  {
   "cell_type": "code",
   "execution_count": 6,
   "metadata": {},
   "outputs": [
    {
     "data": {
      "application/vnd.jupyter.widget-view+json": {
       "model_id": "91e32575fe3f407389238d74e3b7c616",
       "version_major": 2,
       "version_minor": 0
      },
      "text/plain": [
       "HBox(children=(IntProgress(value=0, max=102), HTML(value='')))"
      ]
     },
     "metadata": {},
     "output_type": "display_data"
    },
    {
     "name": "stdout",
     "output_type": "stream",
     "text": [
      "\n"
     ]
    }
   ],
   "source": [
    "df = pd.DataFrame(columns=['seed Gene','Uniprot_AC','protein_name','entrez_gene_id','description'])\n",
    "for i in tqdm_notebook(range(len(seed_genes))):\n",
    "    try:\n",
    "        df.loc[i] = gene_details(seed_genes[i])\n",
    "    except:\n",
    "        pass"
   ]
  },
  {
   "cell_type": "markdown",
   "metadata": {},
   "source": [
    "#### (check if the symbols are updated and approved on the HGNC website; report any issue/lack of data/potential misinterpretation)"
   ]
  },
  {
   "cell_type": "code",
   "execution_count": 7,
   "metadata": {},
   "outputs": [
    {
     "data": {
      "text/html": [
       "<div>\n",
       "<style scoped>\n",
       "    .dataframe tbody tr th:only-of-type {\n",
       "        vertical-align: middle;\n",
       "    }\n",
       "\n",
       "    .dataframe tbody tr th {\n",
       "        vertical-align: top;\n",
       "    }\n",
       "\n",
       "    .dataframe thead th {\n",
       "        text-align: right;\n",
       "    }\n",
       "</style>\n",
       "<table border=\"1\" class=\"dataframe\">\n",
       "  <thead>\n",
       "    <tr style=\"text-align: right;\">\n",
       "      <th></th>\n",
       "      <th>symbol</th>\n",
       "      <th>name</th>\n",
       "      <th>status</th>\n",
       "      <th>uniprot_ids</th>\n",
       "    </tr>\n",
       "  </thead>\n",
       "  <tbody>\n",
       "    <tr>\n",
       "      <th>0</th>\n",
       "      <td>A1BG</td>\n",
       "      <td>alpha-1-B glycoprotein</td>\n",
       "      <td>Approved</td>\n",
       "      <td>P04217</td>\n",
       "    </tr>\n",
       "    <tr>\n",
       "      <th>1</th>\n",
       "      <td>A1BG-AS1</td>\n",
       "      <td>A1BG antisense RNA 1</td>\n",
       "      <td>Approved</td>\n",
       "      <td>NaN</td>\n",
       "    </tr>\n",
       "    <tr>\n",
       "      <th>2</th>\n",
       "      <td>A1CF</td>\n",
       "      <td>APOBEC1 complementation factor</td>\n",
       "      <td>Approved</td>\n",
       "      <td>Q9NQ94</td>\n",
       "    </tr>\n",
       "    <tr>\n",
       "      <th>3</th>\n",
       "      <td>A2M</td>\n",
       "      <td>alpha-2-macroglobulin</td>\n",
       "      <td>Approved</td>\n",
       "      <td>P01023</td>\n",
       "    </tr>\n",
       "    <tr>\n",
       "      <th>4</th>\n",
       "      <td>A2M-AS1</td>\n",
       "      <td>A2M antisense RNA 1</td>\n",
       "      <td>Approved</td>\n",
       "      <td>NaN</td>\n",
       "    </tr>\n",
       "  </tbody>\n",
       "</table>\n",
       "</div>"
      ],
      "text/plain": [
       "     symbol                            name    status uniprot_ids\n",
       "0      A1BG          alpha-1-B glycoprotein  Approved      P04217\n",
       "1  A1BG-AS1            A1BG antisense RNA 1  Approved         NaN\n",
       "2      A1CF  APOBEC1 complementation factor  Approved      Q9NQ94\n",
       "3       A2M           alpha-2-macroglobulin  Approved      P01023\n",
       "4   A2M-AS1             A2M antisense RNA 1  Approved         NaN"
      ]
     },
     "execution_count": 7,
     "metadata": {},
     "output_type": "execute_result"
    }
   ],
   "source": [
    "HGNC = pd.read_csv('hgnc_complete_set.txt',sep='\\t',usecols=['symbol','name','status','uniprot_ids'])\n",
    "HGNC.head()"
   ]
  },
  {
   "cell_type": "code",
   "execution_count": 8,
   "metadata": {},
   "outputs": [],
   "source": [
    "for gene in seed_genes:\n",
    "    try:\n",
    "        if not HGNC[HGNC.symbol==gene]['status'].values[0]=='Approved':\n",
    "            print('Error')\n",
    "            print(gene)\n",
    "            print()\n",
    "            df.drop(df[df['seed Gene'] == gene].index, inplace=True)\n",
    "    except:\n",
    "        print('Error')\n",
    "        print(gene)\n",
    "        print()\n",
    "        df.drop(df[df['seed Gene'] == gene].index, inplace=True)\n",
    "df = df.reset_index(drop=True)"
   ]
  },
  {
   "cell_type": "code",
   "execution_count": 9,
   "metadata": {
    "scrolled": true
   },
   "outputs": [
    {
     "data": {
      "text/html": [
       "<div>\n",
       "<style scoped>\n",
       "    .dataframe tbody tr th:only-of-type {\n",
       "        vertical-align: middle;\n",
       "    }\n",
       "\n",
       "    .dataframe tbody tr th {\n",
       "        vertical-align: top;\n",
       "    }\n",
       "\n",
       "    .dataframe thead th {\n",
       "        text-align: right;\n",
       "    }\n",
       "</style>\n",
       "<table border=\"1\" class=\"dataframe\">\n",
       "  <thead>\n",
       "    <tr style=\"text-align: right;\">\n",
       "      <th></th>\n",
       "      <th>seed Gene</th>\n",
       "      <th>Uniprot_AC</th>\n",
       "      <th>protein_name</th>\n",
       "      <th>entrez_gene_id</th>\n",
       "      <th>description</th>\n",
       "    </tr>\n",
       "  </thead>\n",
       "  <tbody>\n",
       "    <tr>\n",
       "      <th>0</th>\n",
       "      <td>IFNG</td>\n",
       "      <td>P01579</td>\n",
       "      <td>Interferon gamma</td>\n",
       "      <td>3458</td>\n",
       "      <td>Produced by lymphocytes activated by specific ...</td>\n",
       "    </tr>\n",
       "    <tr>\n",
       "      <th>1</th>\n",
       "      <td>CD28</td>\n",
       "      <td>P10747</td>\n",
       "      <td>T-cell-specific surface glycoprotein CD28</td>\n",
       "      <td>940</td>\n",
       "      <td>Involved in T-cell activation, the induction o...</td>\n",
       "    </tr>\n",
       "    <tr>\n",
       "      <th>2</th>\n",
       "      <td>HLA-B</td>\n",
       "      <td>P01889</td>\n",
       "      <td>HLA class I histocompatibility antigen, B alph...</td>\n",
       "      <td>3106</td>\n",
       "      <td>Antigen-presenting major histocompatibility co...</td>\n",
       "    </tr>\n",
       "    <tr>\n",
       "      <th>3</th>\n",
       "      <td>KIR3DL1</td>\n",
       "      <td>P43629</td>\n",
       "      <td>Killer cell immunoglobulin-like receptor 3DL1</td>\n",
       "      <td>3811</td>\n",
       "      <td>Receptor on natural killer (NK) cells for HLA ...</td>\n",
       "    </tr>\n",
       "    <tr>\n",
       "      <th>4</th>\n",
       "      <td>HLA-C</td>\n",
       "      <td>P10321</td>\n",
       "      <td>HLA class I histocompatibility antigen, C alph...</td>\n",
       "      <td>3107</td>\n",
       "      <td>Antigen-presenting major histocompatibility co...</td>\n",
       "    </tr>\n",
       "  </tbody>\n",
       "</table>\n",
       "</div>"
      ],
      "text/plain": [
       "  seed Gene Uniprot_AC                                       protein_name  \\\n",
       "0      IFNG     P01579                                  Interferon gamma    \n",
       "1      CD28     P10747         T-cell-specific surface glycoprotein CD28    \n",
       "2     HLA-B     P01889  HLA class I histocompatibility antigen, B alph...   \n",
       "3   KIR3DL1     P43629     Killer cell immunoglobulin-like receptor 3DL1    \n",
       "4     HLA-C     P10321  HLA class I histocompatibility antigen, C alph...   \n",
       "\n",
       "  entrez_gene_id                                        description  \n",
       "0           3458  Produced by lymphocytes activated by specific ...  \n",
       "1            940  Involved in T-cell activation, the induction o...  \n",
       "2           3106  Antigen-presenting major histocompatibility co...  \n",
       "3           3811  Receptor on natural killer (NK) cells for HLA ...  \n",
       "4           3107  Antigen-presenting major histocompatibility co...  "
      ]
     },
     "execution_count": 9,
     "metadata": {},
     "output_type": "execute_result"
    }
   ],
   "source": [
    "df.head()"
   ]
  },
  {
   "cell_type": "code",
   "execution_count": 10,
   "metadata": {},
   "outputs": [],
   "source": [
    "df.to_csv('Seed_Genes.csv',sep='\\t',index=False)"
   ]
  },
  {
   "cell_type": "markdown",
   "metadata": {},
   "source": [
    "## 1.2) Collect interaction data"
   ]
  },
  {
   "cell_type": "markdown",
   "metadata": {},
   "source": [
    "### BioGrid_Database"
   ]
  },
  {
   "cell_type": "code",
   "execution_count": 37,
   "metadata": {},
   "outputs": [
    {
     "data": {
      "application/vnd.jupyter.widget-view+json": {
       "model_id": "b217f1c2adab4466bf37e63bde4b9e99",
       "version_major": 2,
       "version_minor": 0
      },
      "text/plain": [
       "HBox(children=(IntProgress(value=0, max=102), HTML(value='')))"
      ]
     },
     "metadata": {},
     "output_type": "display_data"
    },
    {
     "name": "stdout",
     "output_type": "stream",
     "text": [
      "ERROR, gene SLC11A1 not found!\n",
      "\n"
     ]
    }
   ],
   "source": [
    "total_node=[]\n",
    "for gene in tqdm_notebook(seed_genes):\n",
    "    try:\n",
    "        b = BioGRID(query=gene,taxId=\"9606\")  ##9606 for Humans\n",
    "        total_node.append(b.biogrid.interactors)\n",
    "        time.sleep(2)\n",
    "    except:\n",
    "        print('ERROR, gene {} not found!'.format(gene))\n",
    "\n",
    "\n",
    "total_genes_Biogrid = []\n",
    "seed_genes_in_DB_Biogrid = 0\n",
    "for t in total_node:\n",
    "    if len(t) > 0:\n",
    "        seed_genes_in_DB_Biogrid += 1\n",
    "        total_genes_Biogrid.extend(t)"
   ]
  },
  {
   "cell_type": "code",
   "execution_count": 38,
   "metadata": {},
   "outputs": [],
   "source": [
    "# remove interactions featuring non-primary seed gene symbols, non valid symbols, or spurious interactions\n",
    "# including interactions mentioned with Alias\n",
    "\n",
    "total_genes_updated = []\n",
    "non_seed_genes = []\n",
    "\n",
    "for tpl in total_genes_Biogrid:\n",
    "    if tpl[0] in seed_genes or tpl[1] in seed_genes:\n",
    "        if \"/\" not in tpl[0] and \"/\" not in tpl[1]:\n",
    "            total_genes_updated.append(tpl)\n",
    "        \n",
    "total_genes_Biogrid = total_genes_updated.copy()\n"
   ]
  },
  {
   "cell_type": "code",
   "execution_count": 39,
   "metadata": {},
   "outputs": [],
   "source": [
    "all_genes_interacting = []\n",
    "for x in total_genes_Biogrid:\n",
    "    all_genes_interacting += [*x]"
   ]
  },
  {
   "cell_type": "code",
   "execution_count": 40,
   "metadata": {},
   "outputs": [
    {
     "data": {
      "text/plain": [
       "25"
      ]
     },
     "execution_count": 40,
     "metadata": {},
     "output_type": "execute_result"
    }
   ],
   "source": [
    "# seed genes skipped\n",
    "len(seed_genes) - len(set(all_genes_interacting).intersection(set(seed_genes)))"
   ]
  },
  {
   "cell_type": "code",
   "execution_count": 41,
   "metadata": {},
   "outputs": [
    {
     "name": "stdout",
     "output_type": "stream",
     "text": [
      "24\n",
      "['CDC42', 'HLA-B', 'CCT3', 'ILF2', 'IL10', 'CLIC1', 'IL4R', 'SIGMAR1', 'MBL2', 'ALB', 'SIRT1', 'SRSF1', 'EIF6', 'TAF9', 'HDGF', 'SERPINA1', 'HLA-C', 'PTCH1', 'KIR3DL1', 'HSPH1', 'GADD45A', 'GTF3A', 'IL2RA', 'RAN']\n"
     ]
    }
   ],
   "source": [
    "seed_genes_skipped = list(set(seed_genes).difference(set(all_genes_interacting)))\n",
    "#delete SLC11A1  gene\n",
    "seed_genes_skipped.remove('SLC11A1')\n",
    "print(len(seed_genes_skipped))\n",
    "print(seed_genes_skipped) # discarded seed genes"
   ]
  },
  {
   "cell_type": "code",
   "execution_count": 42,
   "metadata": {},
   "outputs": [
    {
     "data": {
      "application/vnd.jupyter.widget-view+json": {
       "model_id": "f919fd8cd51945bebd9d79abfcccc75d",
       "version_major": 2,
       "version_minor": 0
      },
      "text/plain": [
       "HBox(children=(IntProgress(value=0, max=24), HTML(value='')))"
      ]
     },
     "metadata": {},
     "output_type": "display_data"
    },
    {
     "name": "stdout",
     "output_type": "stream",
     "text": [
      "CDC42 AND species:9606\n",
      "HLA-B AND species:9606\n",
      "CCT3 AND species:9606\n",
      "ILF2 AND species:9606\n",
      "IL10 AND species:9606\n",
      "CLIC1 AND species:9606\n",
      "IL4R AND species:9606\n",
      "SIGMAR1 AND species:9606\n",
      "MBL2 AND species:9606\n",
      "ALB AND species:9606\n",
      "SIRT1 AND species:9606\n",
      "SRSF1 AND species:9606\n",
      "EIF6 AND species:9606\n",
      "TAF9 AND species:9606\n",
      "HDGF AND species:9606\n",
      "SERPINA1 AND species:9606\n",
      "HLA-C AND species:9606\n",
      "PTCH1 AND species:9606\n",
      "KIR3DL1 AND species:9606\n",
      "HSPH1 AND species:9606\n",
      "GADD45A AND species:9606\n",
      "GTF3A AND species:9606\n",
      "IL2RA AND species:9606\n",
      "RAN AND species:9606\n",
      "\n"
     ]
    }
   ],
   "source": [
    "# using PSICQUIC package from bioservices \n",
    "# to find skipped seed genes - non seed genes interactions\n",
    "\n",
    "\n",
    "queries = []\n",
    "new_seed_interactions = []\n",
    "\n",
    "psic = PSICQUIC(verbose=False)\n",
    "\n",
    "for gene in seed_genes_skipped:\n",
    "    queries.append((gene+\" AND species:9606\"))\n",
    "\n",
    "\n",
    "for query in tqdm_notebook(queries):\n",
    "    print(query)\n",
    "    data = psic.query(\"biogrid\", query)\n",
    "    for item in data:\n",
    "        new_seed_interactions.append([query.split(' ')[0], item[2]])\n",
    "        \n",
    "        #non_seed_interactions.append([query.split(' ')[0], item[3]])\n",
    "        "
   ]
  },
  {
   "cell_type": "code",
   "execution_count": 43,
   "metadata": {},
   "outputs": [
    {
     "data": {
      "text/plain": [
       "['biogrid:111095|entrez gene/', 'PAK1']"
      ]
     },
     "execution_count": 43,
     "metadata": {},
     "output_type": "execute_result"
    }
   ],
   "source": [
    "# seeking synonyms\n",
    "for x in new_seed_interactions:\n",
    "    if len(x[1].split('gene name synonym')) > 1:\n",
    "        print('gene synonym')\n",
    "        \n",
    "new_seed_interactions[0][1].split('locuslink:')"
   ]
  },
  {
   "cell_type": "code",
   "execution_count": 44,
   "metadata": {},
   "outputs": [
    {
     "data": {
      "text/plain": [
       "['biogrid:111095|entrez gene/', 'PAK1']"
      ]
     },
     "execution_count": 44,
     "metadata": {},
     "output_type": "execute_result"
    }
   ],
   "source": [
    "new_seed_interactions[0][1].split('locuslink:')"
   ]
  },
  {
   "cell_type": "code",
   "execution_count": 45,
   "metadata": {},
   "outputs": [
    {
     "data": {
      "text/plain": [
       "['biogrid:107433|entrez gene/', 'CDC42|entrez gene/', 'RP1-224A6.5']"
      ]
     },
     "execution_count": 45,
     "metadata": {},
     "output_type": "execute_result"
    }
   ],
   "source": [
    "new_seed_interactions[1][1].split('locuslink:')"
   ]
  },
  {
   "cell_type": "code",
   "execution_count": 46,
   "metadata": {},
   "outputs": [
    {
     "name": "stdout",
     "output_type": "stream",
     "text": [
      "6365\n"
     ]
    }
   ],
   "source": [
    "updated_list = []\n",
    "\n",
    "for item in new_seed_interactions:\n",
    "    \n",
    "    splitted = item[1].split('locuslink:')\n",
    "    \n",
    "    if  len(splitted) == 2:\n",
    "        # only one interactor\n",
    "        updated_list.append([item[0], splitted[1]])\n",
    "        \n",
    "    elif len(splitted) == 3:\n",
    "        updated_list.append([item[0], splitted[1].split('|')[0]])\n",
    "        updated_list.append([item[0], splitted[2]])     \n",
    "\n",
    "print(len(updated_list))"
   ]
  },
  {
   "cell_type": "code",
   "execution_count": 47,
   "metadata": {},
   "outputs": [],
   "source": [
    "new_seed_interactions = updated_list.copy()"
   ]
  },
  {
   "cell_type": "code",
   "execution_count": 48,
   "metadata": {},
   "outputs": [
    {
     "data": {
      "text/plain": [
       "8746"
      ]
     },
     "execution_count": 48,
     "metadata": {},
     "output_type": "execute_result"
    }
   ],
   "source": [
    "#old size of interactions\n",
    "len(total_genes_Biogrid)"
   ]
  },
  {
   "cell_type": "code",
   "execution_count": 49,
   "metadata": {},
   "outputs": [
    {
     "data": {
      "text/plain": [
       "6365"
      ]
     },
     "execution_count": 49,
     "metadata": {},
     "output_type": "execute_result"
    }
   ],
   "source": [
    "#genes we add to the list\n",
    "len(new_seed_interactions)"
   ]
  },
  {
   "cell_type": "code",
   "execution_count": 50,
   "metadata": {},
   "outputs": [],
   "source": [
    "#update all_possible interactions list of Biogrid\n",
    "for k in new_seed_interactions:\n",
    "    total_genes_Biogrid.append((k[0],k[1]))"
   ]
  },
  {
   "cell_type": "code",
   "execution_count": 51,
   "metadata": {},
   "outputs": [
    {
     "data": {
      "text/plain": [
       "15111"
      ]
     },
     "execution_count": 51,
     "metadata": {},
     "output_type": "execute_result"
    }
   ],
   "source": [
    "#new size of all possible interactions\n",
    "len(total_genes_Biogrid)"
   ]
  },
  {
   "cell_type": "code",
   "execution_count": 52,
   "metadata": {},
   "outputs": [],
   "source": [
    "# collect non-seed genes interacting with seed genes\n",
    "\n",
    "for tpl in total_genes_Biogrid:\n",
    "    if tpl[0] in seed_genes and tpl[1] not in seed_genes:\n",
    "        non_seed_genes.append(tpl[1])\n",
    "    elif tpl[0] not in seed_genes and tpl[1] in seed_genes:\n",
    "        non_seed_genes.append(tpl[0])\n",
    "        \n",
    "non_seed_genes = list(set(non_seed_genes))"
   ]
  },
  {
   "cell_type": "code",
   "execution_count": 53,
   "metadata": {},
   "outputs": [
    {
     "data": {
      "text/plain": [
       "4992"
      ]
     },
     "execution_count": 53,
     "metadata": {},
     "output_type": "execute_result"
    }
   ],
   "source": [
    "#number of non seed genes\n",
    "len(non_seed_genes)"
   ]
  },
  {
   "cell_type": "code",
   "execution_count": 54,
   "metadata": {},
   "outputs": [],
   "source": [
    "# non seed interactions list\n",
    "non_seed_interactions = []\n",
    "\n",
    "k = 0\n",
    "step = 50\n",
    "k_max = len(non_seed_genes) - len(non_seed_genes)%step\n",
    "\n",
    "# This function gets interactions among the non-seed genes\n",
    "# from the index k1 to the index k2 of the non seed genes list\n",
    "# using the BioGRID REST Service\n",
    "\n",
    "def obtain_interactors(k1, k2):\n",
    "    \n",
    "    # set first result to get from the results list returned by BioGRID REST\n",
    "    start = 0\n",
    "    # set number of results to the maximum allowed by BioGrid REST\n",
    "    nresults = 10000\n",
    "    \n",
    "    gn_lst = non_seed_genes[k1:k2].copy()\n",
    "    gn_lst = \"|\".join(gn_lst)\n",
    "    \n",
    "    interactors = []\n",
    "    \n",
    "    # while 10000 or more results are returned\n",
    "    # (so we can expect the existence of more results)\n",
    "    while nresults >= 10000:\n",
    "        \n",
    "        # execute http request and parse result\n",
    "        query=\"https://webservice.thebiogrid.org/interactions?searchNames=true&start=\" + str(start) + \"&geneList=\" + gn_lst + \"&includeInteractors=true&includeInteractorInteractions=false&taxId=9606&accesskey=87c0c25a7e5df5b0e8fdac37eb222ad2\"\n",
    "\n",
    "        page = urllib.request.urlopen(query)\n",
    "        page = page.read().decode()\n",
    "        lines = page.split('\\n')\n",
    "        \n",
    "        # if more than 10000 new results are found\n",
    "        # update starting point\n",
    "        nresults = len(lines)\n",
    "        if nresults >= 10000:\n",
    "            start = start + 10000\n",
    "\n",
    "        # get interactions\n",
    "        for line in lines[0:len(lines) - 1]:\n",
    "            items = line.split(\"\\t\")\n",
    "            interactors.append((items[7], items[8]))\n",
    "\n",
    "    # check and select only interactions between non seed genes\n",
    "    checked_interactors = []\n",
    "    \n",
    "    for tpl in interactors:\n",
    "        if tpl[0] in non_seed_genes and tpl[1] in non_seed_genes:\n",
    "            checked_interactors.append(tpl)\n",
    "            \n",
    "    # return non seed interactions\n",
    "    return checked_interactors\n",
    "\n",
    "# while the list of non seed genes is not completely covered \n",
    "while k < k_max:\n",
    "    \n",
    "    # obtain interactions for group of non seed genes\n",
    "    interactors = obtain_interactors(k, k+step)\n",
    "    # extend non seed interactions\n",
    "    non_seed_interactions.extend(interactors)\n",
    "    # proceed further in the non seed genes list\n",
    "    k = k + step\n",
    "    time.sleep(2)\n",
    "\n",
    "# cover the last chunk of non seed genes\n",
    "if k_max < len(non_seed_genes):\n",
    "    interactors = obtain_interactors(k, len(non_seed_genes))\n",
    "    \n",
    "# extend non seed interactions\n",
    "non_seed_interactions.extend(interactors)"
   ]
  },
  {
   "cell_type": "code",
   "execution_count": 56,
   "metadata": {},
   "outputs": [
    {
     "name": "stdout",
     "output_type": "stream",
     "text": [
      "290754\n"
     ]
    }
   ],
   "source": [
    "total_genes_Biogrid.extend(non_seed_interactions)\n",
    "print(len(total_genes_Biogrid))"
   ]
  },
  {
   "cell_type": "code",
   "execution_count": 57,
   "metadata": {},
   "outputs": [],
   "source": [
    "#BioGrid interactions export\n",
    "with open('BioGrid.txt', 'w', newline='') as f:\n",
    "    for c in total_genes_Biogrid:\n",
    "        f.write('{} {}\\n'.format(c[0],c[1]))\n",
    "    f.close()"
   ]
  },
  {
   "cell_type": "code",
   "execution_count": 58,
   "metadata": {},
   "outputs": [],
   "source": [
    "df_Biogrid = pd.DataFrame(data=total_genes_Biogrid,columns=['symbol1','symbol2'])"
   ]
  },
  {
   "cell_type": "code",
   "execution_count": 59,
   "metadata": {},
   "outputs": [],
   "source": [
    "G_Biogrid = nx.Graph()\n",
    "G_Biogrid.add_nodes_from(seed_genes)\n",
    "G_Biogrid.add_nodes_from(non_seed_genes)\n",
    "G_Biogrid.add_edges_from(total_genes_Biogrid)"
   ]
  },
  {
   "cell_type": "markdown",
   "metadata": {},
   "source": [
    "### IID Integrated Interactions Database"
   ]
  },
  {
   "cell_type": "code",
   "execution_count": 60,
   "metadata": {},
   "outputs": [
    {
     "data": {
      "text/html": [
       "<div>\n",
       "<style scoped>\n",
       "    .dataframe tbody tr th:only-of-type {\n",
       "        vertical-align: middle;\n",
       "    }\n",
       "\n",
       "    .dataframe tbody tr th {\n",
       "        vertical-align: top;\n",
       "    }\n",
       "\n",
       "    .dataframe thead th {\n",
       "        text-align: right;\n",
       "    }\n",
       "</style>\n",
       "<table border=\"1\" class=\"dataframe\">\n",
       "  <thead>\n",
       "    <tr style=\"text-align: right;\">\n",
       "      <th></th>\n",
       "      <th>uniprot1</th>\n",
       "      <th>uniprot2</th>\n",
       "      <th>symbol1</th>\n",
       "      <th>symbol2</th>\n",
       "      <th>dbs</th>\n",
       "      <th>evidence type</th>\n",
       "    </tr>\n",
       "  </thead>\n",
       "  <tbody>\n",
       "    <tr>\n",
       "      <th>0</th>\n",
       "      <td>Q9NUX5</td>\n",
       "      <td>Q9NVM4</td>\n",
       "      <td>POT1</td>\n",
       "      <td>PRMT7</td>\n",
       "      <td>biogrid;intact</td>\n",
       "      <td>exp</td>\n",
       "    </tr>\n",
       "    <tr>\n",
       "      <th>1</th>\n",
       "      <td>Q96JY6</td>\n",
       "      <td>Q9NPC6</td>\n",
       "      <td>PDLIM2</td>\n",
       "      <td>MYOZ2</td>\n",
       "      <td>iid-pred</td>\n",
       "      <td>pred</td>\n",
       "    </tr>\n",
       "    <tr>\n",
       "      <th>2</th>\n",
       "      <td>Q15414</td>\n",
       "      <td>Q32P51</td>\n",
       "      <td>-</td>\n",
       "      <td>HNRNPA1L2</td>\n",
       "      <td>iid-pred</td>\n",
       "      <td>pred</td>\n",
       "    </tr>\n",
       "    <tr>\n",
       "      <th>3</th>\n",
       "      <td>P62633</td>\n",
       "      <td>Q99729</td>\n",
       "      <td>CNBP</td>\n",
       "      <td>HNRNPAB</td>\n",
       "      <td>biogrid;intact</td>\n",
       "      <td>exp</td>\n",
       "    </tr>\n",
       "    <tr>\n",
       "      <th>4</th>\n",
       "      <td>P29353</td>\n",
       "      <td>P42685</td>\n",
       "      <td>SHC1</td>\n",
       "      <td>FRK</td>\n",
       "      <td>iid-pred</td>\n",
       "      <td>pred</td>\n",
       "    </tr>\n",
       "  </tbody>\n",
       "</table>\n",
       "</div>"
      ],
      "text/plain": [
       "  uniprot1 uniprot2 symbol1    symbol2             dbs evidence type\n",
       "0   Q9NUX5   Q9NVM4    POT1      PRMT7  biogrid;intact           exp\n",
       "1   Q96JY6   Q9NPC6  PDLIM2      MYOZ2        iid-pred          pred\n",
       "2   Q15414   Q32P51       -  HNRNPA1L2        iid-pred          pred\n",
       "3   P62633   Q99729    CNBP    HNRNPAB  biogrid;intact           exp\n",
       "4   P29353   P42685    SHC1        FRK        iid-pred          pred"
      ]
     },
     "execution_count": 60,
     "metadata": {},
     "output_type": "execute_result"
    }
   ],
   "source": [
    "IID_Database = pd.read_csv('human_annotated_PPIs.txt',sep='\\t',usecols=['uniprot1','uniprot2','symbol1','symbol2','dbs','evidence type'])\n",
    "IID_Database.head()"
   ]
  },
  {
   "cell_type": "code",
   "execution_count": 61,
   "metadata": {},
   "outputs": [],
   "source": [
    "IID_Database = IID_Database[IID_Database['evidence type'].str.contains(\"exp\")] \n",
    "IID_Database = IID_Database[IID_Database['dbs'].str.contains(\"iid\")] "
   ]
  },
  {
   "cell_type": "code",
   "execution_count": 62,
   "metadata": {
    "scrolled": false
   },
   "outputs": [
    {
     "data": {
      "application/vnd.jupyter.widget-view+json": {
       "model_id": "cfa6ecdad27c4e08b773f3e473341e52",
       "version_major": 2,
       "version_minor": 0
      },
      "text/plain": [
       "HBox(children=(IntProgress(value=0, max=1), HTML(value='')))"
      ]
     },
     "metadata": {},
     "output_type": "display_data"
    },
    {
     "name": "stdout",
     "output_type": "stream",
     "text": [
      "\n"
     ]
    },
    {
     "name": "stderr",
     "output_type": "stream",
     "text": [
      "/home/jason/anaconda3/lib/python3.7/site-packages/ipykernel_launcher.py:16: SettingWithCopyWarning: \n",
      "A value is trying to be set on a copy of a slice from a DataFrame\n",
      "\n",
      "See the caveats in the documentation: http://pandas.pydata.org/pandas-docs/stable/indexing.html#indexing-view-versus-copy\n",
      "  app.launch_new_instance()\n",
      "/home/jason/anaconda3/lib/python3.7/site-packages/ipykernel_launcher.py:18: SettingWithCopyWarning: \n",
      "A value is trying to be set on a copy of a slice from a DataFrame\n",
      "\n",
      "See the caveats in the documentation: http://pandas.pydata.org/pandas-docs/stable/indexing.html#indexing-view-versus-copy\n"
     ]
    },
    {
     "data": {
      "application/vnd.jupyter.widget-view+json": {
       "model_id": "8eb59ae539154a928d9c196c28fff6ad",
       "version_major": 2,
       "version_minor": 0
      },
      "text/plain": [
       "HBox(children=(IntProgress(value=0, max=1), HTML(value='')))"
      ]
     },
     "metadata": {},
     "output_type": "display_data"
    },
    {
     "name": "stdout",
     "output_type": "stream",
     "text": [
      "\n",
      "ERROR, gene SLC11A1 not found!\n"
     ]
    },
    {
     "data": {
      "text/html": [
       "<div>\n",
       "<style scoped>\n",
       "    .dataframe tbody tr th:only-of-type {\n",
       "        vertical-align: middle;\n",
       "    }\n",
       "\n",
       "    .dataframe tbody tr th {\n",
       "        vertical-align: top;\n",
       "    }\n",
       "\n",
       "    .dataframe thead th {\n",
       "        text-align: right;\n",
       "    }\n",
       "</style>\n",
       "<table border=\"1\" class=\"dataframe\">\n",
       "  <thead>\n",
       "    <tr style=\"text-align: right;\">\n",
       "      <th></th>\n",
       "      <th>uniprot1</th>\n",
       "      <th>uniprot2</th>\n",
       "      <th>symbol1</th>\n",
       "      <th>symbol2</th>\n",
       "      <th>dbs</th>\n",
       "      <th>evidence type</th>\n",
       "    </tr>\n",
       "  </thead>\n",
       "  <tbody>\n",
       "    <tr>\n",
       "      <th>0</th>\n",
       "      <td>P01579</td>\n",
       "      <td>P15260</td>\n",
       "      <td>IFNG</td>\n",
       "      <td>IFNGR1</td>\n",
       "      <td>bci;biogrid;dip;hprd;iid-pred;innatedb;intact</td>\n",
       "      <td>exp;pred</td>\n",
       "    </tr>\n",
       "    <tr>\n",
       "      <th>1</th>\n",
       "      <td>P01579</td>\n",
       "      <td>P38484</td>\n",
       "      <td>IFNG</td>\n",
       "      <td>IFNGR2</td>\n",
       "      <td>bci;biogrid;hprd;iid-pred;innatedb</td>\n",
       "      <td>exp;pred</td>\n",
       "    </tr>\n",
       "    <tr>\n",
       "      <th>2</th>\n",
       "      <td>P01579</td>\n",
       "      <td>Q9BZS1</td>\n",
       "      <td>IFNG</td>\n",
       "      <td>FOXP3</td>\n",
       "      <td>iid-ortho;intact</td>\n",
       "      <td>exp;ortho</td>\n",
       "    </tr>\n",
       "    <tr>\n",
       "      <th>3</th>\n",
       "      <td>P10747</td>\n",
       "      <td>P15498</td>\n",
       "      <td>CD28</td>\n",
       "      <td>VAV1</td>\n",
       "      <td>biogrid;iid-pred</td>\n",
       "      <td>exp;pred</td>\n",
       "    </tr>\n",
       "    <tr>\n",
       "      <th>4</th>\n",
       "      <td>P10747</td>\n",
       "      <td>P27986</td>\n",
       "      <td>CD28</td>\n",
       "      <td>PIK3R1</td>\n",
       "      <td>biogrid;hprd;iid-ortho;iid-pred;innatedb;intac...</td>\n",
       "      <td>exp;ortho;pred</td>\n",
       "    </tr>\n",
       "  </tbody>\n",
       "</table>\n",
       "</div>"
      ],
      "text/plain": [
       "  uniprot1 uniprot2 symbol1 symbol2  \\\n",
       "0   P01579   P15260    IFNG  IFNGR1   \n",
       "1   P01579   P38484    IFNG  IFNGR2   \n",
       "2   P01579   Q9BZS1    IFNG   FOXP3   \n",
       "3   P10747   P15498    CD28    VAV1   \n",
       "4   P10747   P27986    CD28  PIK3R1   \n",
       "\n",
       "                                                 dbs   evidence type  \n",
       "0      bci;biogrid;dip;hprd;iid-pred;innatedb;intact        exp;pred  \n",
       "1                 bci;biogrid;hprd;iid-pred;innatedb        exp;pred  \n",
       "2                                   iid-ortho;intact       exp;ortho  \n",
       "3                                   biogrid;iid-pred        exp;pred  \n",
       "4  biogrid;hprd;iid-ortho;iid-pred;innatedb;intac...  exp;ortho;pred  "
      ]
     },
     "execution_count": 62,
     "metadata": {},
     "output_type": "execute_result"
    }
   ],
   "source": [
    "df_IID = pd.DataFrame(columns=IID_Database.columns)\n",
    "\n",
    "seed_genes_in_DB_IID = 0\n",
    "for gene in seed_genes:\n",
    "    temp = IID_Database[(IID_Database['symbol1'] == gene) | (IID_Database['symbol2'] == gene)]\n",
    "    if len(temp)>0:\n",
    "        seed_genes_in_DB_IID += 1\n",
    "        df_IID = df_IID.append(temp)\n",
    "    else:\n",
    "        uniprot_id = uniprot_AC(gene)[0]\n",
    "        temp = IID_Database[(IID_Database['uniprot1'] == uniprot_id) | (IID_Database['uniprot2'] == uniprot_id)]\n",
    "        if len(temp)>0:\n",
    "            seed_genes_in_DB_IID += 1\n",
    "            for i in range(temp.shape[0]):\n",
    "                if temp['uniprot1'].iloc[i] == uniprot_id:\n",
    "                    temp['symbol1'].iloc[i] = gene\n",
    "                else:\n",
    "                    temp['symbol2'].iloc[i] = gene\n",
    "            df_IID = df_IID.append(temp)\n",
    "        else:\n",
    "            print('ERROR, gene {} not found!'.format(gene))\n",
    "        \n",
    "\n",
    "df_IID = df_IID.reset_index(drop=True)\n",
    "df_IID.head()"
   ]
  },
  {
   "cell_type": "code",
   "execution_count": 63,
   "metadata": {},
   "outputs": [
    {
     "data": {
      "text/html": [
       "<div>\n",
       "<style scoped>\n",
       "    .dataframe tbody tr th:only-of-type {\n",
       "        vertical-align: middle;\n",
       "    }\n",
       "\n",
       "    .dataframe tbody tr th {\n",
       "        vertical-align: top;\n",
       "    }\n",
       "\n",
       "    .dataframe thead th {\n",
       "        text-align: right;\n",
       "    }\n",
       "</style>\n",
       "<table border=\"1\" class=\"dataframe\">\n",
       "  <thead>\n",
       "    <tr style=\"text-align: right;\">\n",
       "      <th></th>\n",
       "      <th>uniprot1</th>\n",
       "      <th>uniprot2</th>\n",
       "      <th>symbol1</th>\n",
       "      <th>symbol2</th>\n",
       "      <th>dbs</th>\n",
       "      <th>evidence type</th>\n",
       "    </tr>\n",
       "  </thead>\n",
       "  <tbody>\n",
       "    <tr>\n",
       "      <th>0</th>\n",
       "      <td>P01579</td>\n",
       "      <td>P15260</td>\n",
       "      <td>IFNG</td>\n",
       "      <td>IFNGR1</td>\n",
       "      <td>bci;biogrid;dip;hprd;iid-pred;innatedb;intact</td>\n",
       "      <td>exp;pred</td>\n",
       "    </tr>\n",
       "    <tr>\n",
       "      <th>1</th>\n",
       "      <td>P01579</td>\n",
       "      <td>P38484</td>\n",
       "      <td>IFNG</td>\n",
       "      <td>IFNGR2</td>\n",
       "      <td>bci;biogrid;hprd;iid-pred;innatedb</td>\n",
       "      <td>exp;pred</td>\n",
       "    </tr>\n",
       "    <tr>\n",
       "      <th>2</th>\n",
       "      <td>P01579</td>\n",
       "      <td>Q9BZS1</td>\n",
       "      <td>IFNG</td>\n",
       "      <td>FOXP3</td>\n",
       "      <td>iid-ortho;intact</td>\n",
       "      <td>exp;ortho</td>\n",
       "    </tr>\n",
       "    <tr>\n",
       "      <th>3</th>\n",
       "      <td>P10747</td>\n",
       "      <td>P15498</td>\n",
       "      <td>CD28</td>\n",
       "      <td>VAV1</td>\n",
       "      <td>biogrid;iid-pred</td>\n",
       "      <td>exp;pred</td>\n",
       "    </tr>\n",
       "    <tr>\n",
       "      <th>4</th>\n",
       "      <td>P10747</td>\n",
       "      <td>P27986</td>\n",
       "      <td>CD28</td>\n",
       "      <td>PIK3R1</td>\n",
       "      <td>biogrid;hprd;iid-ortho;iid-pred;innatedb;intac...</td>\n",
       "      <td>exp;ortho;pred</td>\n",
       "    </tr>\n",
       "  </tbody>\n",
       "</table>\n",
       "</div>"
      ],
      "text/plain": [
       "  uniprot1 uniprot2 symbol1 symbol2  \\\n",
       "0   P01579   P15260    IFNG  IFNGR1   \n",
       "1   P01579   P38484    IFNG  IFNGR2   \n",
       "2   P01579   Q9BZS1    IFNG   FOXP3   \n",
       "3   P10747   P15498    CD28    VAV1   \n",
       "4   P10747   P27986    CD28  PIK3R1   \n",
       "\n",
       "                                                 dbs   evidence type  \n",
       "0      bci;biogrid;dip;hprd;iid-pred;innatedb;intact        exp;pred  \n",
       "1                 bci;biogrid;hprd;iid-pred;innatedb        exp;pred  \n",
       "2                                   iid-ortho;intact       exp;ortho  \n",
       "3                                   biogrid;iid-pred        exp;pred  \n",
       "4  biogrid;hprd;iid-ortho;iid-pred;innatedb;intac...  exp;ortho;pred  "
      ]
     },
     "execution_count": 63,
     "metadata": {},
     "output_type": "execute_result"
    }
   ],
   "source": [
    "non_seed_genes = []\n",
    "\n",
    "for idx in range(len(df_IID)):\n",
    "    if df_IID[\"symbol1\"][idx] not in seed_genes:\n",
    "        non_seed_genes.append(df_IID[\"symbol1\"][idx])\n",
    "    if df_IID[\"symbol2\"][idx] not in seed_genes:\n",
    "        non_seed_genes.append(df_IID[\"symbol2\"][idx])\n",
    "        \n",
    "non_seed_genes = list(set(non_seed_genes))\n",
    "\n",
    "temp = IID_Database[IID_Database[\"symbol1\"].isin(non_seed_genes) & IID_Database[\"symbol2\"].isin(non_seed_genes)] \n",
    "\n",
    "df_IID = df_IID.append(temp)\n",
    "df_IID = df_IID.reset_index(drop=True)\n",
    "df_IID.head()"
   ]
  },
  {
   "cell_type": "code",
   "execution_count": 64,
   "metadata": {},
   "outputs": [],
   "source": [
    "#IID interactios export\n",
    "total_genes_IID = []\n",
    "for k in df_IID[['symbol1','symbol2']].values:\n",
    "    total_genes_IID.append((k[0],k[1]))\n",
    "    \n",
    "with open('IID.txt', 'w', newline='') as f:\n",
    "    for c in total_genes_IID:\n",
    "        f.write('{} {}\\n'.format(c[0],c[1]))\n",
    "    f.close()"
   ]
  },
  {
   "cell_type": "code",
   "execution_count": 65,
   "metadata": {},
   "outputs": [],
   "source": [
    "G_IID = nx.Graph()\n",
    "G_IID.add_nodes_from(seed_genes)\n",
    "G_IID.add_nodes_from(non_seed_genes)\n",
    "G_IID.add_edges_from(total_genes_IID)\n",
    "\n",
    "color = []\n",
    "for node in G_IID:\n",
    "    if node in seed_genes:\n",
    "        color.append('blue')\n",
    "    else: color.append('pink')"
   ]
  },
  {
   "cell_type": "markdown",
   "metadata": {},
   "source": [
    "## Summarize the main results"
   ]
  },
  {
   "cell_type": "code",
   "execution_count": 66,
   "metadata": {},
   "outputs": [],
   "source": [
    "gn_lst = [tpl[0] for tpl in total_genes_Biogrid]\n",
    "gn_lst.extend([tpl[1] for tpl in total_genes_Biogrid])\n",
    "gn_lst_Biogrid = set(gn_lst)"
   ]
  },
  {
   "cell_type": "code",
   "execution_count": 67,
   "metadata": {},
   "outputs": [],
   "source": [
    "gn_lst = [tpl[0] for tpl in total_genes_IID]\n",
    "gn_lst.extend([tpl[1] for tpl in total_genes_IID])\n",
    "gn_lst_IID = set(gn_lst)"
   ]
  },
  {
   "cell_type": "code",
   "execution_count": 68,
   "metadata": {
    "scrolled": true
   },
   "outputs": [
    {
     "data": {
      "text/html": [
       "<div>\n",
       "<style scoped>\n",
       "    .dataframe tbody tr th:only-of-type {\n",
       "        vertical-align: middle;\n",
       "    }\n",
       "\n",
       "    .dataframe tbody tr th {\n",
       "        vertical-align: top;\n",
       "    }\n",
       "\n",
       "    .dataframe thead th {\n",
       "        text-align: right;\n",
       "    }\n",
       "</style>\n",
       "<table border=\"1\" class=\"dataframe\">\n",
       "  <thead>\n",
       "    <tr style=\"text-align: right;\">\n",
       "      <th></th>\n",
       "      <th>Number of seed genes</th>\n",
       "      <th>Total Number of interacting proteins (including seed genes)</th>\n",
       "      <th>Total Number of interactions</th>\n",
       "    </tr>\n",
       "  </thead>\n",
       "  <tbody>\n",
       "    <tr>\n",
       "      <th>BioGrid</th>\n",
       "      <td>101</td>\n",
       "      <td>5093</td>\n",
       "      <td>98902</td>\n",
       "    </tr>\n",
       "    <tr>\n",
       "      <th>IID (Integrated Interactions Database)</th>\n",
       "      <td>101</td>\n",
       "      <td>1782</td>\n",
       "      <td>21812</td>\n",
       "    </tr>\n",
       "  </tbody>\n",
       "</table>\n",
       "</div>"
      ],
      "text/plain": [
       "                                        Number of seed genes  \\\n",
       "BioGrid                                                  101   \n",
       "IID (Integrated Interactions Database)                   101   \n",
       "\n",
       "                                        Total Number of interacting proteins (including seed genes)  \\\n",
       "BioGrid                                                                              5093             \n",
       "IID (Integrated Interactions Database)                                               1782             \n",
       "\n",
       "                                        Total Number of interactions  \n",
       "BioGrid                                                        98902  \n",
       "IID (Integrated Interactions Database)                         21812  "
      ]
     },
     "execution_count": 68,
     "metadata": {},
     "output_type": "execute_result"
    }
   ],
   "source": [
    "d = {'Number of seed genes' : [seed_genes_in_DB_Biogrid,seed_genes_in_DB_IID], \n",
    "     'Total Number of interacting proteins (including seed genes)' : [len(gn_lst_Biogrid),len(gn_lst_IID)],\n",
    "        'Total Number of interactions' : [G_Biogrid.number_of_edges(),G_IID.number_of_edges()]}\n",
    "pd.DataFrame(d, index=['BioGrid','IID (Integrated Interactions Database)'])"
   ]
  },
  {
   "cell_type": "code",
   "execution_count": 69,
   "metadata": {},
   "outputs": [
    {
     "data": {
      "application/vnd.jupyter.widget-view+json": {
       "model_id": "f5e32a19f4a84613af9f78bc27c1a355",
       "version_major": 2,
       "version_minor": 0
      },
      "text/plain": [
       "HBox(children=(IntProgress(value=0, max=5628), HTML(value='')))"
      ]
     },
     "metadata": {},
     "output_type": "display_data"
    },
    {
     "name": "stdout",
     "output_type": "stream",
     "text": [
      "\n"
     ]
    }
   ],
   "source": [
    "# this is a protein_symbol to uniprot_entry dictionary\n",
    "\n",
    "keys = set()\n",
    "\n",
    "keys.update(list(G_Biogrid.nodes))\n",
    "keys.update(list(G_IID.nodes))\n",
    "\n",
    "values = uniprot_AC(keys)\n",
    "gene_to_uniprot = dict(dict(zip(keys,values)))"
   ]
  },
  {
   "cell_type": "code",
   "execution_count": 70,
   "metadata": {},
   "outputs": [
    {
     "data": {
      "text/html": [
       "<div>\n",
       "<style scoped>\n",
       "    .dataframe tbody tr th:only-of-type {\n",
       "        vertical-align: middle;\n",
       "    }\n",
       "\n",
       "    .dataframe tbody tr th {\n",
       "        vertical-align: top;\n",
       "    }\n",
       "\n",
       "    .dataframe thead th {\n",
       "        text-align: right;\n",
       "    }\n",
       "</style>\n",
       "<table border=\"1\" class=\"dataframe\">\n",
       "  <thead>\n",
       "    <tr style=\"text-align: right;\">\n",
       "      <th></th>\n",
       "      <th>interactor A gene symbol</th>\n",
       "      <th>interactor B gene symbol</th>\n",
       "      <th>interactor A Uniprot AC</th>\n",
       "      <th>interactor B Uniprot AC</th>\n",
       "      <th>database source</th>\n",
       "    </tr>\n",
       "  </thead>\n",
       "  <tbody>\n",
       "    <tr>\n",
       "      <th>0</th>\n",
       "      <td>IFNG</td>\n",
       "      <td>RP3-503F13.3</td>\n",
       "      <td>P01579</td>\n",
       "      <td>-</td>\n",
       "      <td>Biogrid</td>\n",
       "    </tr>\n",
       "    <tr>\n",
       "      <th>1</th>\n",
       "      <td>IFNG</td>\n",
       "      <td>GOPC</td>\n",
       "      <td>P01579</td>\n",
       "      <td>Q9HD26</td>\n",
       "      <td>Biogrid</td>\n",
       "    </tr>\n",
       "    <tr>\n",
       "      <th>2</th>\n",
       "      <td>IFNG</td>\n",
       "      <td>IFNGR2</td>\n",
       "      <td>P01579</td>\n",
       "      <td>P38484</td>\n",
       "      <td>Biogrid</td>\n",
       "    </tr>\n",
       "    <tr>\n",
       "      <th>3</th>\n",
       "      <td>IFNG</td>\n",
       "      <td>STAT6</td>\n",
       "      <td>P01579</td>\n",
       "      <td>P42226</td>\n",
       "      <td>Biogrid</td>\n",
       "    </tr>\n",
       "    <tr>\n",
       "      <th>4</th>\n",
       "      <td>IFNG</td>\n",
       "      <td>IFNG</td>\n",
       "      <td>P01579</td>\n",
       "      <td>P01579</td>\n",
       "      <td>Biogrid</td>\n",
       "    </tr>\n",
       "  </tbody>\n",
       "</table>\n",
       "</div>"
      ],
      "text/plain": [
       "  interactor A gene symbol interactor B gene symbol interactor A Uniprot AC  \\\n",
       "0                     IFNG             RP3-503F13.3                  P01579   \n",
       "1                     IFNG                     GOPC                  P01579   \n",
       "2                     IFNG                   IFNGR2                  P01579   \n",
       "3                     IFNG                    STAT6                  P01579   \n",
       "4                     IFNG                     IFNG                  P01579   \n",
       "\n",
       "  interactor B Uniprot AC database source  \n",
       "0                       -         Biogrid  \n",
       "1                  Q9HD26         Biogrid  \n",
       "2                  P38484         Biogrid  \n",
       "3                  P42226         Biogrid  \n",
       "4                  P01579         Biogrid  "
      ]
     },
     "execution_count": 70,
     "metadata": {},
     "output_type": "execute_result"
    }
   ],
   "source": [
    "Summarized_Data = pd.DataFrame(columns=['interactor A gene symbol','interactor B gene symbol'],data=list(G_Biogrid.edges()))\n",
    "Summarized_Data['interactor A Uniprot AC'] = Summarized_Data['interactor A gene symbol'].apply(lambda x:gene_to_uniprot[x])\n",
    "Summarized_Data['interactor B Uniprot AC'] = Summarized_Data['interactor B gene symbol'].apply(lambda x:gene_to_uniprot[x])\n",
    "Summarized_Data['database source'] = 'Biogrid'\n",
    "temp = pd.DataFrame(columns=['interactor A gene symbol','interactor B gene symbol'],data=list(G_IID.edges()))\n",
    "temp['interactor A Uniprot AC'] = temp['interactor A gene symbol'].apply(lambda x:gene_to_uniprot[x])\n",
    "temp['interactor B Uniprot AC'] = temp['interactor B gene symbol'].apply(lambda x:gene_to_uniprot[x])\n",
    "temp['database source'] = 'IID'\n",
    "\n",
    "\n",
    "Summarized_Data = pd.concat([Summarized_Data,temp],ignore_index=True)\n",
    "Summarized_Data.head()"
   ]
  },
  {
   "cell_type": "code",
   "execution_count": 71,
   "metadata": {},
   "outputs": [],
   "source": [
    "Summarized_Data.to_csv('SummarizedData.csv',sep='\\t',index=False)"
   ]
  },
  {
   "cell_type": "markdown",
   "metadata": {},
   "source": [
    "## 1.3) Arrange interaction data"
   ]
  },
  {
   "cell_type": "code",
   "execution_count": 72,
   "metadata": {},
   "outputs": [
    {
     "data": {
      "text/html": [
       "<div>\n",
       "<style scoped>\n",
       "    .dataframe tbody tr th:only-of-type {\n",
       "        vertical-align: middle;\n",
       "    }\n",
       "\n",
       "    .dataframe tbody tr th {\n",
       "        vertical-align: top;\n",
       "    }\n",
       "\n",
       "    .dataframe thead th {\n",
       "        text-align: right;\n",
       "    }\n",
       "</style>\n",
       "<table border=\"1\" class=\"dataframe\">\n",
       "  <thead>\n",
       "    <tr style=\"text-align: right;\">\n",
       "      <th></th>\n",
       "      <th>interactor A gene symbol</th>\n",
       "      <th>interactor B gene symbol</th>\n",
       "      <th>interactor A Uniprot AC</th>\n",
       "      <th>interactor B Uniprot AC</th>\n",
       "      <th>database source</th>\n",
       "    </tr>\n",
       "  </thead>\n",
       "  <tbody>\n",
       "    <tr>\n",
       "      <th>4</th>\n",
       "      <td>IFNG</td>\n",
       "      <td>IFNG</td>\n",
       "      <td>P01579</td>\n",
       "      <td>P01579</td>\n",
       "      <td>Biogrid</td>\n",
       "    </tr>\n",
       "    <tr>\n",
       "      <th>15</th>\n",
       "      <td>HLA-B</td>\n",
       "      <td>HLA-B</td>\n",
       "      <td>P01889</td>\n",
       "      <td>P01889</td>\n",
       "      <td>Biogrid</td>\n",
       "    </tr>\n",
       "    <tr>\n",
       "      <th>32</th>\n",
       "      <td>HLA-B</td>\n",
       "      <td>ADRB2</td>\n",
       "      <td>P01889</td>\n",
       "      <td>P07550</td>\n",
       "      <td>Biogrid</td>\n",
       "    </tr>\n",
       "    <tr>\n",
       "      <th>48</th>\n",
       "      <td>HLA-B</td>\n",
       "      <td>HLA-C</td>\n",
       "      <td>P01889</td>\n",
       "      <td>P10321</td>\n",
       "      <td>Biogrid</td>\n",
       "    </tr>\n",
       "    <tr>\n",
       "      <th>49</th>\n",
       "      <td>KIR3DL1</td>\n",
       "      <td>KIR3DL1</td>\n",
       "      <td>P43629</td>\n",
       "      <td>P43629</td>\n",
       "      <td>Biogrid</td>\n",
       "    </tr>\n",
       "  </tbody>\n",
       "</table>\n",
       "</div>"
      ],
      "text/plain": [
       "   interactor A gene symbol interactor B gene symbol interactor A Uniprot AC  \\\n",
       "4                      IFNG                     IFNG                  P01579   \n",
       "15                    HLA-B                    HLA-B                  P01889   \n",
       "32                    HLA-B                    ADRB2                  P01889   \n",
       "48                    HLA-B                    HLA-C                  P01889   \n",
       "49                  KIR3DL1                  KIR3DL1                  P43629   \n",
       "\n",
       "   interactor B Uniprot AC database source  \n",
       "4                   P01579         Biogrid  \n",
       "15                  P01889         Biogrid  \n",
       "32                  P07550         Biogrid  \n",
       "48                  P10321         Biogrid  \n",
       "49                  P43629         Biogrid  "
      ]
     },
     "execution_count": 72,
     "metadata": {},
     "output_type": "execute_result"
    }
   ],
   "source": [
    "# a) Seed Genes Interactome\n",
    "\n",
    "seed_genes_interactome = Summarized_Data[(Summarized_Data['interactor A gene symbol'].isin(seed_genes)) & (Summarized_Data['interactor B gene symbol'].isin(seed_genes))]\n",
    "seed_genes_interactome.reset_index(drop=True)\n",
    "seed_genes_interactome.to_csv('SeedGeneInteractome.csv',sep='\\t',index=False)\n",
    "seed_genes_interactome.head()"
   ]
  },
  {
   "cell_type": "code",
   "execution_count": 73,
   "metadata": {},
   "outputs": [
    {
     "name": "stderr",
     "output_type": "stream",
     "text": [
      "/home/jason/anaconda3/lib/python3.7/site-packages/ipykernel_launcher.py:5: SettingWithCopyWarning: \n",
      "A value is trying to be set on a copy of a slice from a DataFrame\n",
      "\n",
      "See the caveats in the documentation: http://pandas.pydata.org/pandas-docs/stable/indexing.html#indexing-view-versus-copy\n",
      "  \"\"\"\n"
     ]
    },
    {
     "data": {
      "text/html": [
       "<div>\n",
       "<style scoped>\n",
       "    .dataframe tbody tr th:only-of-type {\n",
       "        vertical-align: middle;\n",
       "    }\n",
       "\n",
       "    .dataframe tbody tr th {\n",
       "        vertical-align: top;\n",
       "    }\n",
       "\n",
       "    .dataframe thead th {\n",
       "        text-align: right;\n",
       "    }\n",
       "</style>\n",
       "<table border=\"1\" class=\"dataframe\">\n",
       "  <thead>\n",
       "    <tr style=\"text-align: right;\">\n",
       "      <th></th>\n",
       "      <th>interactor A gene symbol</th>\n",
       "      <th>interactor B gene symbol</th>\n",
       "      <th>interactor A Uniprot AC</th>\n",
       "      <th>interactor B Uniprot AC</th>\n",
       "    </tr>\n",
       "  </thead>\n",
       "  <tbody>\n",
       "    <tr>\n",
       "      <th>0</th>\n",
       "      <td>IFNG</td>\n",
       "      <td>RP3-503F13.3</td>\n",
       "      <td>P01579</td>\n",
       "      <td>-</td>\n",
       "    </tr>\n",
       "    <tr>\n",
       "      <th>1</th>\n",
       "      <td>IFNG</td>\n",
       "      <td>GOPC</td>\n",
       "      <td>P01579</td>\n",
       "      <td>Q9HD26</td>\n",
       "    </tr>\n",
       "    <tr>\n",
       "      <th>2</th>\n",
       "      <td>IFNG</td>\n",
       "      <td>IFNGR2</td>\n",
       "      <td>P01579</td>\n",
       "      <td>P38484</td>\n",
       "    </tr>\n",
       "    <tr>\n",
       "      <th>3</th>\n",
       "      <td>IFNG</td>\n",
       "      <td>STAT6</td>\n",
       "      <td>P01579</td>\n",
       "      <td>P42226</td>\n",
       "    </tr>\n",
       "    <tr>\n",
       "      <th>4</th>\n",
       "      <td>IFNG</td>\n",
       "      <td>IFNG</td>\n",
       "      <td>P01579</td>\n",
       "      <td>P01579</td>\n",
       "    </tr>\n",
       "  </tbody>\n",
       "</table>\n",
       "</div>"
      ],
      "text/plain": [
       "  interactor A gene symbol interactor B gene symbol interactor A Uniprot AC  \\\n",
       "0                     IFNG             RP3-503F13.3                  P01579   \n",
       "1                     IFNG                     GOPC                  P01579   \n",
       "2                     IFNG                   IFNGR2                  P01579   \n",
       "3                     IFNG                    STAT6                  P01579   \n",
       "4                     IFNG                     IFNG                  P01579   \n",
       "\n",
       "  interactor B Uniprot AC  \n",
       "0                       -  \n",
       "1                  Q9HD26  \n",
       "2                  P38484  \n",
       "3                  P42226  \n",
       "4                  P01579  "
      ]
     },
     "execution_count": 73,
     "metadata": {},
     "output_type": "execute_result"
    }
   ],
   "source": [
    "# b) Union Interactome \n",
    "\n",
    "union_interactome = Summarized_Data[['interactor A gene symbol', 'interactor B gene symbol', 'interactor A Uniprot AC', 'interactor B Uniprot AC']]\n",
    "union_interactome.reset_index(drop=True)\n",
    "union_interactome.drop_duplicates(inplace=True)\n",
    "union_interactome.to_csv('UnionInteractome.csv',sep='\\t',index=False)\n",
    "union_interactome.head()"
   ]
  },
  {
   "cell_type": "code",
   "execution_count": 74,
   "metadata": {},
   "outputs": [],
   "source": [
    "total_genes_Biogrid_rev = []\n",
    "for tpl in total_genes_Biogrid:\n",
    "    total_genes_Biogrid_rev.append((tpl[1], tpl[0]))"
   ]
  },
  {
   "cell_type": "code",
   "execution_count": 75,
   "metadata": {},
   "outputs": [],
   "source": [
    "total_genes1 = [item for sublist in total_genes_Biogrid for item in sublist]\n",
    "\n",
    "total_genes1 = set(total_genes1).intersection(set(total_genes_IID))\n",
    "total_genes1 = list(total_genes1)\n",
    "total_genes2 = set(total_genes_Biogrid_rev).intersection(set(total_genes_IID))\n",
    "total_genes2 = list(total_genes2)\n",
    "total_genes1.extend(total_genes2)\n",
    "total_genes = list(set(total_genes1))"
   ]
  },
  {
   "cell_type": "code",
   "execution_count": 76,
   "metadata": {},
   "outputs": [
    {
     "data": {
      "text/html": [
       "<div>\n",
       "<style scoped>\n",
       "    .dataframe tbody tr th:only-of-type {\n",
       "        vertical-align: middle;\n",
       "    }\n",
       "\n",
       "    .dataframe tbody tr th {\n",
       "        vertical-align: top;\n",
       "    }\n",
       "\n",
       "    .dataframe thead th {\n",
       "        text-align: right;\n",
       "    }\n",
       "</style>\n",
       "<table border=\"1\" class=\"dataframe\">\n",
       "  <thead>\n",
       "    <tr style=\"text-align: right;\">\n",
       "      <th></th>\n",
       "      <th>interactor A gene symbol</th>\n",
       "      <th>interactor B gene symbol</th>\n",
       "      <th>interactor A Uniprot AC</th>\n",
       "      <th>interactor B Uniprot AC</th>\n",
       "    </tr>\n",
       "  </thead>\n",
       "  <tbody>\n",
       "    <tr>\n",
       "      <th>0</th>\n",
       "      <td>DHX15</td>\n",
       "      <td>ARRB2</td>\n",
       "      <td>O43143</td>\n",
       "      <td>P32121</td>\n",
       "    </tr>\n",
       "    <tr>\n",
       "      <th>1</th>\n",
       "      <td>CAD</td>\n",
       "      <td>HDAC6</td>\n",
       "      <td>P27708</td>\n",
       "      <td>Q9UBN7</td>\n",
       "    </tr>\n",
       "    <tr>\n",
       "      <th>2</th>\n",
       "      <td>RPL7</td>\n",
       "      <td>RPS13</td>\n",
       "      <td>P18124</td>\n",
       "      <td>P62277</td>\n",
       "    </tr>\n",
       "    <tr>\n",
       "      <th>3</th>\n",
       "      <td>MYC</td>\n",
       "      <td>HSP90AA1</td>\n",
       "      <td>P01106</td>\n",
       "      <td>P07900</td>\n",
       "    </tr>\n",
       "    <tr>\n",
       "      <th>4</th>\n",
       "      <td>TP53</td>\n",
       "      <td>GNL3</td>\n",
       "      <td>P04637</td>\n",
       "      <td>Q9BVP2</td>\n",
       "    </tr>\n",
       "  </tbody>\n",
       "</table>\n",
       "</div>"
      ],
      "text/plain": [
       "  interactor A gene symbol interactor B gene symbol interactor A Uniprot AC  \\\n",
       "0                    DHX15                    ARRB2                  O43143   \n",
       "1                      CAD                    HDAC6                  P27708   \n",
       "2                     RPL7                    RPS13                  P18124   \n",
       "3                      MYC                 HSP90AA1                  P01106   \n",
       "4                     TP53                     GNL3                  P04637   \n",
       "\n",
       "  interactor B Uniprot AC  \n",
       "0                  P32121  \n",
       "1                  Q9UBN7  \n",
       "2                  P62277  \n",
       "3                  P07900  \n",
       "4                  Q9BVP2  "
      ]
     },
     "execution_count": 76,
     "metadata": {},
     "output_type": "execute_result"
    }
   ],
   "source": [
    "# c) Intersection Interactome\n",
    "\n",
    "intersection_interactome = pd.DataFrame(columns=['interactor A gene symbol','interactor B gene symbol'],data=total_genes)\n",
    "intersection_interactome['interactor A Uniprot AC'] = intersection_interactome['interactor A gene symbol'].apply(lambda x:gene_to_uniprot[x])\n",
    "intersection_interactome['interactor B Uniprot AC'] = intersection_interactome['interactor B gene symbol'].apply(lambda x:gene_to_uniprot[x])\n",
    "intersection_interactome.to_csv('IntersectionInteractome.csv',sep='\\t',index=False)\n",
    "intersection_interactome.head()"
   ]
  },
  {
   "cell_type": "markdown",
   "metadata": {},
   "source": [
    "## 1.4) Enrichment analysis"
   ]
  },
  {
   "cell_type": "code",
   "execution_count": 77,
   "metadata": {},
   "outputs": [],
   "source": [
    "%%capture\n",
    "\n",
    "# a) seed_genes\n",
    "\n",
    "gseapy.enrichr(gene_list=list(seed_genes), description='gene_ontology', gene_sets='GO_Biological_Process_2018', outdir='seed_genes',cutoff=0.05, format='png')\n",
    "gseapy.enrichr(gene_list=list(seed_genes), description='gene_ontology', gene_sets='GO_Cellular_Component_2018', outdir='seed_genes',cutoff=0.05, format='png')\n",
    "gseapy.enrichr(gene_list=list(seed_genes), description='gene_ontology', gene_sets='GO_Molecular_Function_2018', outdir='seed_genes',cutoff=0.05, format='png')\n",
    "gseapy.enrichr(gene_list=list(seed_genes), description='pathway', gene_sets='KEGG_2019_Human', outdir='seed_genes',cutoff=0.05, format='png')\n",
    "\n",
    "\n"
   ]
  },
  {
   "cell_type": "code",
   "execution_count": 80,
   "metadata": {},
   "outputs": [
    {
     "data": {
      "text/plain": [
       "<gseapy.enrichr.Enrichr at 0x7ffab944a630>"
      ]
     },
     "execution_count": 80,
     "metadata": {},
     "output_type": "execute_result"
    }
   ],
   "source": [
    "# b) union_interactome_genes\n",
    "\n",
    "\n",
    "\n",
    "U_I = set()\n",
    "for k in union_interactome.values:\n",
    "    for i in range(2):\n",
    "        U_I.add(k[i])\n",
    "\n",
    "U_I = list(U_I)\n",
    "\n",
    "#Careful!! Maybe it should be wise to add a small time-out \n",
    "#between the executions in order to avoid any connection error...\n",
    "\n",
    "gseapy.enrichr(gene_list=U_I, description='gene_ontology', gene_sets='GO_Biological_Process_2018', outdir='union_interactome_genes',cutoff=0.05, format='png')\n",
    "gseapy.enrichr(gene_list=U_I, description='gene_ontology', gene_sets='GO_Cellular_Component_2018', outdir='union_interactome_genes',cutoff=0.05, format='png')\n",
    "gseapy.enrichr(gene_list=U_I, description='gene_ontology', gene_sets='GO_Molecular_Function_2018', outdir='union_interactome_genes',cutoff=0.05, format='png')\n",
    "gseapy.enrichr(gene_list=U_I, description='pathway', gene_sets='KEGG_2019_Human', outdir='union_interactome_genes',cutoff=0.05, format='png')"
   ]
  },
  {
   "cell_type": "code",
   "execution_count": null,
   "metadata": {},
   "outputs": [],
   "source": []
  }
 ],
 "metadata": {
  "kernelspec": {
   "display_name": "Python 3",
   "language": "python",
   "name": "python3"
  },
  "language_info": {
   "codemirror_mode": {
    "name": "ipython",
    "version": 3
   },
   "file_extension": ".py",
   "mimetype": "text/x-python",
   "name": "python",
   "nbconvert_exporter": "python",
   "pygments_lexer": "ipython3",
   "version": "3.7.3"
  }
 },
 "nbformat": 4,
 "nbformat_minor": 2
}
